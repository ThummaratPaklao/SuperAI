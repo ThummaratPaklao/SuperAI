{
  "cells": [
    {
      "cell_type": "code",
      "execution_count": null,
      "metadata": {
        "colab": {
          "base_uri": "https://localhost:8080/"
        },
        "id": "5ratIEPaeTuW",
        "outputId": "bdbbf203-6539-41db-d5b1-9fe2026206ce"
      },
      "outputs": [
        {
          "name": "stdout",
          "output_type": "stream",
          "text": [
            "Access denied with the following error:\n",
            "\n",
            " \tCannot retrieve the public link of the file. You may need to change\n",
            "\tthe permission to 'Anyone with the link', or have had many accesses. \n",
            "\n",
            "You may still be able to access the file from the browser:\n",
            "\n",
            "\t https://drive.google.com/uc?id=11iR_kDZaJ9IB5-CHVz8DGJ9sLriJWWGEm \n",
            "\n"
          ]
        }
      ],
      "source": [
        "!gdown --id 11iR_kDZaJ9IB5-CHVz8DGJ9sLriJWWGEm && unzip -q /content/superai2_pos_tagging.zip && rm /content/superai2_pos_tagging.zip"
      ]
    },
    {
      "cell_type": "code",
      "execution_count": null,
      "metadata": {
        "colab": {
          "base_uri": "https://localhost:8080/"
        },
        "id": "fIXKs45_9ADZ",
        "outputId": "4e864a22-1875-4a36-f1f4-fbd15d820f30"
      },
      "outputs": [
        {
          "output_type": "stream",
          "name": "stdout",
          "text": [
            "Mounted at /content/drive\n"
          ]
        }
      ],
      "source": [
        "from google.colab import drive\n",
        "drive.mount('/content/drive')"
      ]
    },
    {
      "cell_type": "code",
      "execution_count": null,
      "metadata": {
        "id": "EHQiRRDo-XHR",
        "colab": {
          "base_uri": "https://localhost:8080/"
        },
        "outputId": "7edd45b3-392b-4cb0-eca8-801e784a411a"
      },
      "outputs": [
        {
          "output_type": "stream",
          "name": "stdout",
          "text": [
            "replace __MACOSX/._super-ai-engineer-2021-nlp-pos-tagging? [y]es, [n]o, [A]ll, [N]one, [r]ename: "
          ]
        }
      ],
      "source": [
        "!unzip -q /content/drive/MyDrive/NLP_POS/superai2_pos_tagging.zip"
      ]
    },
    {
      "cell_type": "code",
      "execution_count": null,
      "metadata": {
        "id": "C7yJF0WcMhSK"
      },
      "outputs": [],
      "source": [
        "path = \"/content/super-ai-engineer-2021-nlp-pos-tagging/train/LST20 (Main Resource)/LST20_Corpus/LST20_Corpus/train/\""
      ]
    },
    {
      "cell_type": "code",
      "execution_count": null,
      "metadata": {
        "id": "eB03tIcJKHIz"
      },
      "outputs": [],
      "source": [
        "import os\n",
        "import pandas as pd"
      ]
    },
    {
      "cell_type": "code",
      "execution_count": null,
      "metadata": {
        "id": "kCgXf_NjNXkD"
      },
      "outputs": [],
      "source": [
        "dir_list = os.listdir(path)"
      ]
    },
    {
      "cell_type": "code",
      "execution_count": null,
      "metadata": {
        "id": "v9GzImfhQCNR"
      },
      "outputs": [],
      "source": [
        "dir_list.sort()\n",
        "dir_list=dir_list[1:]"
      ]
    },
    {
      "cell_type": "code",
      "execution_count": null,
      "metadata": {
        "id": "T2u9PD3zyT2V"
      },
      "outputs": [],
      "source": [
        "word=[]\n",
        "pos=[]\n",
        "for file in dir_list:\n",
        "  file2 = open(path+file, 'r')\n",
        "  Lines = file2.readlines()\n",
        "  for line in Lines:\n",
        "    if line == \"\\n\":\n",
        "      word.append(\"_\")\n",
        "      pos.append(\"PU\")\n",
        "    else:\n",
        "      word.append(line.split(\"\\t\")[0])\n",
        "      pos.append(line.split(\"\\t\")[1])\n",
        "  file2.close()"
      ]
    },
    {
      "cell_type": "code",
      "execution_count": null,
      "metadata": {
        "id": "EqD8vIg90B28"
      },
      "outputs": [],
      "source": [
        "All_data = pd.DataFrame()\n",
        "All_data[\"word\"]=word\n",
        "All_data[\"POS\"]=pos"
      ]
    },
    {
      "cell_type": "code",
      "execution_count": null,
      "metadata": {
        "id": "5Tgu-0vRmpAe"
      },
      "outputs": [],
      "source": [
        "import gc"
      ]
    },
    {
      "cell_type": "code",
      "execution_count": null,
      "metadata": {
        "colab": {
          "base_uri": "https://localhost:8080/"
        },
        "id": "WcrX22twiqRk",
        "outputId": "7f034fe0-806d-46de-9de8-629e33847592"
      },
      "outputs": [
        {
          "output_type": "execute_result",
          "data": {
            "text/plain": [
              "293"
            ]
          },
          "metadata": {},
          "execution_count": 8
        }
      ],
      "source": [
        "del dir_list,word,pos,Lines\n",
        "gc.collect()"
      ]
    },
    {
      "cell_type": "code",
      "execution_count": null,
      "metadata": {
        "colab": {
          "base_uri": "https://localhost:8080/",
          "height": 423
        },
        "id": "GmzrTCZJ-SYV",
        "outputId": "137285e1-c078-4361-c6ba-cd366b08c9e8"
      },
      "outputs": [
        {
          "output_type": "execute_result",
          "data": {
            "text/html": [
              "\n",
              "  <div id=\"df-543094e3-c8e5-424f-bb35-dbccd88a3c16\">\n",
              "    <div class=\"colab-df-container\">\n",
              "      <div>\n",
              "<style scoped>\n",
              "    .dataframe tbody tr th:only-of-type {\n",
              "        vertical-align: middle;\n",
              "    }\n",
              "\n",
              "    .dataframe tbody tr th {\n",
              "        vertical-align: top;\n",
              "    }\n",
              "\n",
              "    .dataframe thead th {\n",
              "        text-align: right;\n",
              "    }\n",
              "</style>\n",
              "<table border=\"1\" class=\"dataframe\">\n",
              "  <thead>\n",
              "    <tr style=\"text-align: right;\">\n",
              "      <th></th>\n",
              "      <th>word</th>\n",
              "      <th>POS</th>\n",
              "    </tr>\n",
              "  </thead>\n",
              "  <tbody>\n",
              "    <tr>\n",
              "      <th>0</th>\n",
              "      <td>สุรยุทธ์</td>\n",
              "      <td>NN</td>\n",
              "    </tr>\n",
              "    <tr>\n",
              "      <th>1</th>\n",
              "      <td>ยัน</td>\n",
              "      <td>VV</td>\n",
              "    </tr>\n",
              "    <tr>\n",
              "      <th>2</th>\n",
              "      <td>ปฏิเสธ</td>\n",
              "      <td>VV</td>\n",
              "    </tr>\n",
              "    <tr>\n",
              "      <th>3</th>\n",
              "      <td>ลงนาม</td>\n",
              "      <td>VV</td>\n",
              "    </tr>\n",
              "    <tr>\n",
              "      <th>4</th>\n",
              "      <td>_</td>\n",
              "      <td>PU</td>\n",
              "    </tr>\n",
              "    <tr>\n",
              "      <th>...</th>\n",
              "      <td>...</td>\n",
              "      <td>...</td>\n",
              "    </tr>\n",
              "    <tr>\n",
              "      <th>2778031</th>\n",
              "      <td>ถอน</td>\n",
              "      <td>VV</td>\n",
              "    </tr>\n",
              "    <tr>\n",
              "      <th>2778032</th>\n",
              "      <td>รายชื่อ</td>\n",
              "      <td>NN</td>\n",
              "    </tr>\n",
              "    <tr>\n",
              "      <th>2778033</th>\n",
              "      <td>ด้วย</td>\n",
              "      <td>PS</td>\n",
              "    </tr>\n",
              "    <tr>\n",
              "      <th>2778034</th>\n",
              "      <td>.</td>\n",
              "      <td>PU</td>\n",
              "    </tr>\n",
              "    <tr>\n",
              "      <th>2778035</th>\n",
              "      <td>_</td>\n",
              "      <td>PU</td>\n",
              "    </tr>\n",
              "  </tbody>\n",
              "</table>\n",
              "<p>2778036 rows × 2 columns</p>\n",
              "</div>\n",
              "      <button class=\"colab-df-convert\" onclick=\"convertToInteractive('df-543094e3-c8e5-424f-bb35-dbccd88a3c16')\"\n",
              "              title=\"Convert this dataframe to an interactive table.\"\n",
              "              style=\"display:none;\">\n",
              "        \n",
              "  <svg xmlns=\"http://www.w3.org/2000/svg\" height=\"24px\"viewBox=\"0 0 24 24\"\n",
              "       width=\"24px\">\n",
              "    <path d=\"M0 0h24v24H0V0z\" fill=\"none\"/>\n",
              "    <path d=\"M18.56 5.44l.94 2.06.94-2.06 2.06-.94-2.06-.94-.94-2.06-.94 2.06-2.06.94zm-11 1L8.5 8.5l.94-2.06 2.06-.94-2.06-.94L8.5 2.5l-.94 2.06-2.06.94zm10 10l.94 2.06.94-2.06 2.06-.94-2.06-.94-.94-2.06-.94 2.06-2.06.94z\"/><path d=\"M17.41 7.96l-1.37-1.37c-.4-.4-.92-.59-1.43-.59-.52 0-1.04.2-1.43.59L10.3 9.45l-7.72 7.72c-.78.78-.78 2.05 0 2.83L4 21.41c.39.39.9.59 1.41.59.51 0 1.02-.2 1.41-.59l7.78-7.78 2.81-2.81c.8-.78.8-2.07 0-2.86zM5.41 20L4 18.59l7.72-7.72 1.47 1.35L5.41 20z\"/>\n",
              "  </svg>\n",
              "      </button>\n",
              "      \n",
              "  <style>\n",
              "    .colab-df-container {\n",
              "      display:flex;\n",
              "      flex-wrap:wrap;\n",
              "      gap: 12px;\n",
              "    }\n",
              "\n",
              "    .colab-df-convert {\n",
              "      background-color: #E8F0FE;\n",
              "      border: none;\n",
              "      border-radius: 50%;\n",
              "      cursor: pointer;\n",
              "      display: none;\n",
              "      fill: #1967D2;\n",
              "      height: 32px;\n",
              "      padding: 0 0 0 0;\n",
              "      width: 32px;\n",
              "    }\n",
              "\n",
              "    .colab-df-convert:hover {\n",
              "      background-color: #E2EBFA;\n",
              "      box-shadow: 0px 1px 2px rgba(60, 64, 67, 0.3), 0px 1px 3px 1px rgba(60, 64, 67, 0.15);\n",
              "      fill: #174EA6;\n",
              "    }\n",
              "\n",
              "    [theme=dark] .colab-df-convert {\n",
              "      background-color: #3B4455;\n",
              "      fill: #D2E3FC;\n",
              "    }\n",
              "\n",
              "    [theme=dark] .colab-df-convert:hover {\n",
              "      background-color: #434B5C;\n",
              "      box-shadow: 0px 1px 3px 1px rgba(0, 0, 0, 0.15);\n",
              "      filter: drop-shadow(0px 1px 2px rgba(0, 0, 0, 0.3));\n",
              "      fill: #FFFFFF;\n",
              "    }\n",
              "  </style>\n",
              "\n",
              "      <script>\n",
              "        const buttonEl =\n",
              "          document.querySelector('#df-543094e3-c8e5-424f-bb35-dbccd88a3c16 button.colab-df-convert');\n",
              "        buttonEl.style.display =\n",
              "          google.colab.kernel.accessAllowed ? 'block' : 'none';\n",
              "\n",
              "        async function convertToInteractive(key) {\n",
              "          const element = document.querySelector('#df-543094e3-c8e5-424f-bb35-dbccd88a3c16');\n",
              "          const dataTable =\n",
              "            await google.colab.kernel.invokeFunction('convertToInteractive',\n",
              "                                                     [key], {});\n",
              "          if (!dataTable) return;\n",
              "\n",
              "          const docLinkHtml = 'Like what you see? Visit the ' +\n",
              "            '<a target=\"_blank\" href=https://colab.research.google.com/notebooks/data_table.ipynb>data table notebook</a>'\n",
              "            + ' to learn more about interactive tables.';\n",
              "          element.innerHTML = '';\n",
              "          dataTable['output_type'] = 'display_data';\n",
              "          await google.colab.output.renderOutput(dataTable, element);\n",
              "          const docLink = document.createElement('div');\n",
              "          docLink.innerHTML = docLinkHtml;\n",
              "          element.appendChild(docLink);\n",
              "        }\n",
              "      </script>\n",
              "    </div>\n",
              "  </div>\n",
              "  "
            ],
            "text/plain": [
              "             word POS\n",
              "0        สุรยุทธ์  NN\n",
              "1             ยัน  VV\n",
              "2          ปฏิเสธ  VV\n",
              "3           ลงนาม  VV\n",
              "4               _  PU\n",
              "...           ...  ..\n",
              "2778031       ถอน  VV\n",
              "2778032   รายชื่อ  NN\n",
              "2778033      ด้วย  PS\n",
              "2778034         .  PU\n",
              "2778035         _  PU\n",
              "\n",
              "[2778036 rows x 2 columns]"
            ]
          },
          "metadata": {},
          "execution_count": 24
        }
      ],
      "source": [
        "All_data"
      ]
    },
    {
      "cell_type": "code",
      "execution_count": null,
      "metadata": {
        "id": "_i8UYsHIVN8O"
      },
      "outputs": [],
      "source": [
        "import tensorflow as tf"
      ]
    },
    {
      "cell_type": "code",
      "execution_count": null,
      "metadata": {
        "id": "nIDJdraJ5TX1"
      },
      "outputs": [],
      "source": [
        "import numpy as np\n",
        "from keras.models import Model\n",
        "from keras.layers import Dense, Input, Dropout, LSTM, Activation"
      ]
    },
    {
      "cell_type": "code",
      "execution_count": null,
      "metadata": {
        "colab": {
          "base_uri": "https://localhost:8080/"
        },
        "id": "BDa6vlT8jSMj",
        "outputId": "b4c27c68-7da2-4877-8f88-b801c48b6ef7"
      },
      "outputs": [
        {
          "output_type": "stream",
          "name": "stdout",
          "text": [
            "Requirement already satisfied: sentence-transformers in /usr/local/lib/python3.7/dist-packages (2.2.0)\n",
            "Requirement already satisfied: nltk in /usr/local/lib/python3.7/dist-packages (from sentence-transformers) (3.2.5)\n",
            "Requirement already satisfied: scipy in /usr/local/lib/python3.7/dist-packages (from sentence-transformers) (1.4.1)\n",
            "Requirement already satisfied: torchvision in /usr/local/lib/python3.7/dist-packages (from sentence-transformers) (0.11.1+cu111)\n",
            "Requirement already satisfied: scikit-learn in /usr/local/lib/python3.7/dist-packages (from sentence-transformers) (1.0.2)\n",
            "Requirement already satisfied: tqdm in /usr/local/lib/python3.7/dist-packages (from sentence-transformers) (4.62.3)\n",
            "Requirement already satisfied: sentencepiece in /usr/local/lib/python3.7/dist-packages (from sentence-transformers) (0.1.96)\n",
            "Requirement already satisfied: torch>=1.6.0 in /usr/local/lib/python3.7/dist-packages (from sentence-transformers) (1.10.0+cu111)\n",
            "Requirement already satisfied: numpy in /usr/local/lib/python3.7/dist-packages (from sentence-transformers) (1.21.5)\n",
            "Requirement already satisfied: huggingface-hub in /usr/local/lib/python3.7/dist-packages (from sentence-transformers) (0.4.0)\n",
            "Requirement already satisfied: transformers<5.0.0,>=4.6.0 in /usr/local/lib/python3.7/dist-packages (from sentence-transformers) (4.16.2)\n",
            "Requirement already satisfied: typing-extensions in /usr/local/lib/python3.7/dist-packages (from torch>=1.6.0->sentence-transformers) (3.10.0.2)\n",
            "Requirement already satisfied: sacremoses in /usr/local/lib/python3.7/dist-packages (from transformers<5.0.0,>=4.6.0->sentence-transformers) (0.0.47)\n",
            "Requirement already satisfied: filelock in /usr/local/lib/python3.7/dist-packages (from transformers<5.0.0,>=4.6.0->sentence-transformers) (3.6.0)\n",
            "Requirement already satisfied: pyyaml>=5.1 in /usr/local/lib/python3.7/dist-packages (from transformers<5.0.0,>=4.6.0->sentence-transformers) (6.0)\n",
            "Requirement already satisfied: importlib-metadata in /usr/local/lib/python3.7/dist-packages (from transformers<5.0.0,>=4.6.0->sentence-transformers) (4.11.1)\n",
            "Requirement already satisfied: tokenizers!=0.11.3,>=0.10.1 in /usr/local/lib/python3.7/dist-packages (from transformers<5.0.0,>=4.6.0->sentence-transformers) (0.11.5)\n",
            "Requirement already satisfied: requests in /usr/local/lib/python3.7/dist-packages (from transformers<5.0.0,>=4.6.0->sentence-transformers) (2.23.0)\n",
            "Requirement already satisfied: regex!=2019.12.17 in /usr/local/lib/python3.7/dist-packages (from transformers<5.0.0,>=4.6.0->sentence-transformers) (2019.12.20)\n",
            "Requirement already satisfied: packaging>=20.0 in /usr/local/lib/python3.7/dist-packages (from transformers<5.0.0,>=4.6.0->sentence-transformers) (21.3)\n",
            "Requirement already satisfied: pyparsing!=3.0.5,>=2.0.2 in /usr/local/lib/python3.7/dist-packages (from packaging>=20.0->transformers<5.0.0,>=4.6.0->sentence-transformers) (3.0.7)\n",
            "Requirement already satisfied: zipp>=0.5 in /usr/local/lib/python3.7/dist-packages (from importlib-metadata->transformers<5.0.0,>=4.6.0->sentence-transformers) (3.7.0)\n",
            "Requirement already satisfied: six in /usr/local/lib/python3.7/dist-packages (from nltk->sentence-transformers) (1.15.0)\n",
            "Requirement already satisfied: chardet<4,>=3.0.2 in /usr/local/lib/python3.7/dist-packages (from requests->transformers<5.0.0,>=4.6.0->sentence-transformers) (3.0.4)\n",
            "Requirement already satisfied: certifi>=2017.4.17 in /usr/local/lib/python3.7/dist-packages (from requests->transformers<5.0.0,>=4.6.0->sentence-transformers) (2021.10.8)\n",
            "Requirement already satisfied: urllib3!=1.25.0,!=1.25.1,<1.26,>=1.21.1 in /usr/local/lib/python3.7/dist-packages (from requests->transformers<5.0.0,>=4.6.0->sentence-transformers) (1.24.3)\n",
            "Requirement already satisfied: idna<3,>=2.5 in /usr/local/lib/python3.7/dist-packages (from requests->transformers<5.0.0,>=4.6.0->sentence-transformers) (2.10)\n",
            "Requirement already satisfied: click in /usr/local/lib/python3.7/dist-packages (from sacremoses->transformers<5.0.0,>=4.6.0->sentence-transformers) (7.1.2)\n",
            "Requirement already satisfied: joblib in /usr/local/lib/python3.7/dist-packages (from sacremoses->transformers<5.0.0,>=4.6.0->sentence-transformers) (1.1.0)\n",
            "Requirement already satisfied: threadpoolctl>=2.0.0 in /usr/local/lib/python3.7/dist-packages (from scikit-learn->sentence-transformers) (3.1.0)\n",
            "Requirement already satisfied: pillow!=8.3.0,>=5.3.0 in /usr/local/lib/python3.7/dist-packages (from torchvision->sentence-transformers) (7.1.2)\n"
          ]
        }
      ],
      "source": [
        "!pip install -U sentence-transformers"
      ]
    },
    {
      "cell_type": "code",
      "execution_count": null,
      "metadata": {
        "id": "74qsZOpEjTxq"
      },
      "outputs": [],
      "source": [
        "from sentence_transformers import SentenceTransformer"
      ]
    },
    {
      "cell_type": "code",
      "execution_count": null,
      "metadata": {
        "id": "YHzTT4pYtalC"
      },
      "outputs": [],
      "source": [
        "model_emb = SentenceTransformer('mrp/simcse-model-roberta-base-thai')"
      ]
    },
    {
      "cell_type": "code",
      "execution_count": null,
      "metadata": {
        "colab": {
          "base_uri": "https://localhost:8080/"
        },
        "id": "yMr576hc2phq",
        "outputId": "9f5c8d7f-c477-4344-b80a-ccb472236db3"
      },
      "outputs": [
        {
          "output_type": "stream",
          "name": "stdout",
          "text": [
            "Requirement already satisfied: tqdm in /usr/local/lib/python3.7/dist-packages (4.62.3)\n"
          ]
        }
      ],
      "source": [
        "!pip install tqdm"
      ]
    },
    {
      "cell_type": "code",
      "execution_count": null,
      "metadata": {
        "id": "YecqUl5N2tuB"
      },
      "outputs": [],
      "source": [
        "from tqdm import tqdm"
      ]
    },
    {
      "cell_type": "code",
      "execution_count": null,
      "metadata": {
        "id": "VHAVPu2L2-sV"
      },
      "outputs": [],
      "source": [
        "n=len(All_data)//256"
      ]
    },
    {
      "cell_type": "code",
      "execution_count": null,
      "metadata": {
        "id": "atF0ECFF7-F8"
      },
      "outputs": [],
      "source": [
        "from numpy import array\n",
        "from sklearn.decomposition import TruncatedSVD"
      ]
    },
    {
      "cell_type": "code",
      "execution_count": null,
      "metadata": {
        "colab": {
          "base_uri": "https://localhost:8080/"
        },
        "id": "CaumcW7iCehd",
        "outputId": "a6e2226a-dfa1-4564-a697-3dfb89980766"
      },
      "outputs": [
        {
          "output_type": "stream",
          "name": "stderr",
          "text": [
            "100%|██████████| 10852/10852 [24:52<00:00,  7.27it/s]\n"
          ]
        }
      ],
      "source": [
        "emb_list=[]\n",
        "for i in tqdm(range(n+1)):\n",
        "  if i==n:\n",
        "    embeddings = model_emb.encode(list(All_data.iloc[256*i:len(All_data[\"word\"]),0]))\n",
        "  else:\n",
        "    embeddings = model_emb.encode(list(All_data.iloc[256*i:(256*(i+1)),0]))\n",
        "  emb_list=emb_list+list(embeddings)"
      ]
    },
    {
      "cell_type": "code",
      "execution_count": null,
      "metadata": {
        "colab": {
          "base_uri": "https://localhost:8080/"
        },
        "id": "-vix-es6xbVF",
        "outputId": "6cfc271c-7965-45b3-b110-4b34d302249b"
      },
      "outputs": [
        {
          "output_type": "execute_result",
          "data": {
            "text/plain": [
              "306"
            ]
          },
          "metadata": {},
          "execution_count": 19
        }
      ],
      "source": [
        "del embeddings\n",
        "gc.collect()"
      ]
    },
    {
      "cell_type": "code",
      "execution_count": null,
      "metadata": {
        "colab": {
          "base_uri": "https://localhost:8080/"
        },
        "id": "hsyc-xWe_An_",
        "outputId": "8e13286b-a8ba-4e9c-89e2-e8ac4eb9da95"
      },
      "outputs": [
        {
          "output_type": "execute_result",
          "data": {
            "text/plain": [
              "768"
            ]
          },
          "metadata": {},
          "execution_count": 20
        }
      ],
      "source": [
        "len(emb_list[100])"
      ]
    },
    {
      "cell_type": "code",
      "execution_count": null,
      "metadata": {
        "id": "atoJtu6vsCOr"
      },
      "outputs": [],
      "source": [
        "Pos_unique = All_data['POS'].unique()"
      ]
    },
    {
      "cell_type": "code",
      "execution_count": null,
      "metadata": {
        "id": "rlYmq7FNurUj"
      },
      "outputs": [],
      "source": [
        "Pos_unique=list(Pos_unique)"
      ]
    },
    {
      "cell_type": "code",
      "source": [
        "Pos_unique"
      ],
      "metadata": {
        "colab": {
          "base_uri": "https://localhost:8080/"
        },
        "id": "aFzfa7dWBc4F",
        "outputId": "24ec3aec-1e8d-4e73-b256-a1ca46200378"
      },
      "execution_count": null,
      "outputs": [
        {
          "output_type": "execute_result",
          "data": {
            "text/plain": [
              "['NN',\n",
              " 'VV',\n",
              " 'PU',\n",
              " 'PS',\n",
              " 'NG',\n",
              " 'NU',\n",
              " 'CL',\n",
              " 'CC',\n",
              " 'AX',\n",
              " 'AV',\n",
              " 'FX',\n",
              " 'AJ',\n",
              " 'PR',\n",
              " 'PA',\n",
              " 'IJ',\n",
              " 'XX']"
            ]
          },
          "metadata": {},
          "execution_count": 24
        }
      ]
    },
    {
      "cell_type": "code",
      "execution_count": null,
      "metadata": {
        "id": "dkBkrxtcsQ_U"
      },
      "outputs": [],
      "source": [
        "def converlabel(Pos_unique,s):\n",
        "  ind = Pos_unique.index(s)\n",
        "  return ind"
      ]
    },
    {
      "cell_type": "code",
      "execution_count": null,
      "metadata": {
        "id": "6cRRz23wtbRb"
      },
      "outputs": [],
      "source": [
        "relabel=[]\n",
        "for i in All_data['POS']:\n",
        "  relabel.append(converlabel(Pos_unique,i))"
      ]
    },
    {
      "cell_type": "code",
      "source": [
        "import random"
      ],
      "metadata": {
        "id": "f2xrE0Q4VbWw"
      },
      "execution_count": null,
      "outputs": []
    },
    {
      "cell_type": "code",
      "execution_count": null,
      "metadata": {
        "colab": {
          "base_uri": "https://localhost:8080/"
        },
        "id": "Kz3cpXY3_-o3",
        "outputId": "fad3f94f-3851-4c61-ab89-edf27a10d2b6"
      },
      "outputs": [
        {
          "output_type": "stream",
          "name": "stderr",
          "text": [
            "100%|██████████| 154336/154336 [00:00<00:00, 244014.02it/s]\n"
          ]
        }
      ],
      "source": [
        "new_emb_list = []\n",
        "for i in tqdm(range(0,len(emb_list),18)):\n",
        "  if i < len(emb_list)-18:\n",
        "    temp = emb_list[i:i+18]\n",
        "  else:\n",
        "    temp = emb_list[i:len(emb_list)]\n",
        "    temp0 = [0]*768\n",
        "    for j in range(18-(len(emb_list)-i)):\n",
        "      temp.append(temp0)\n",
        "  new_emb_list.append(temp)"
      ]
    },
    {
      "cell_type": "code",
      "source": [
        "len(new_emb_list[0])"
      ],
      "metadata": {
        "colab": {
          "base_uri": "https://localhost:8080/"
        },
        "id": "pbt20PEaW8hG",
        "outputId": "371cd915-58e5-4b7d-f065-0871377ed16f"
      },
      "execution_count": null,
      "outputs": [
        {
          "output_type": "execute_result",
          "data": {
            "text/plain": [
              "16"
            ]
          },
          "metadata": {},
          "execution_count": 29
        }
      ]
    },
    {
      "cell_type": "code",
      "execution_count": null,
      "metadata": {
        "colab": {
          "base_uri": "https://localhost:8080/"
        },
        "id": "4Fnvx9c13tAL",
        "outputId": "36e52fc7-0f3c-4aff-f6fd-9d26a776af76"
      },
      "outputs": [
        {
          "output_type": "execute_result",
          "data": {
            "text/plain": [
              "88"
            ]
          },
          "metadata": {},
          "execution_count": 27
        }
      ],
      "source": [
        "del emb_list\n",
        "gc.collect()"
      ]
    },
    {
      "cell_type": "code",
      "execution_count": null,
      "metadata": {
        "colab": {
          "base_uri": "https://localhost:8080/"
        },
        "id": "S106Pumd2Ob1",
        "outputId": "342a6cc2-3635-4135-d42c-448d03e131c6"
      },
      "outputs": [
        {
          "output_type": "execute_result",
          "data": {
            "text/plain": [
              "88"
            ]
          },
          "metadata": {},
          "execution_count": 28
        }
      ],
      "source": [
        "del All_data,temp,temp0\n",
        "gc.collect()"
      ]
    },
    {
      "cell_type": "code",
      "execution_count": null,
      "metadata": {
        "id": "Llt3vB_5YLes"
      },
      "outputs": [],
      "source": [
        "gc.collect()\n",
        "new_emb_list = np.asarray(new_emb_list,dtype='float32')"
      ]
    },
    {
      "cell_type": "code",
      "execution_count": null,
      "metadata": {
        "colab": {
          "base_uri": "https://localhost:8080/"
        },
        "id": "_0GVCA7IYrnm",
        "outputId": "8b011e4b-0e16-40b0-c83b-063fab1e10f8"
      },
      "outputs": [
        {
          "output_type": "execute_result",
          "data": {
            "text/plain": [
              "(173628, 16, 768)"
            ]
          },
          "metadata": {},
          "execution_count": 33
        }
      ],
      "source": [
        "new_emb_list.shape"
      ]
    },
    {
      "cell_type": "code",
      "execution_count": null,
      "metadata": {
        "id": "dVu9EmV3RpxN"
      },
      "outputs": [],
      "source": [
        "from keras.models import Model, Input\n",
        "from keras.layers import LSTM, Embedding, Dense, TimeDistributed, Dropout, Bidirectional"
      ]
    },
    {
      "cell_type": "code",
      "execution_count": null,
      "metadata": {
        "id": "Ka5r-7KHUG-7"
      },
      "outputs": [],
      "source": [
        "from keras import layers"
      ]
    },
    {
      "cell_type": "code",
      "execution_count": null,
      "metadata": {
        "colab": {
          "base_uri": "https://localhost:8080/"
        },
        "id": "xuTQhd5y_BSZ",
        "outputId": "365292f2-9c18-4729-9b02-ee1a6bf6ec69"
      },
      "outputs": [
        {
          "output_type": "stream",
          "name": "stdout",
          "text": [
            "Requirement already satisfied: keras-crf in /usr/local/lib/python3.7/dist-packages (0.3.0)\n",
            "Requirement already satisfied: tensorflow in /usr/local/lib/python3.7/dist-packages (from keras-crf) (2.8.0)\n",
            "Requirement already satisfied: tensorflow-addons in /usr/local/lib/python3.7/dist-packages (from keras-crf) (0.16.1)\n",
            "Requirement already satisfied: tf-estimator-nightly==2.8.0.dev2021122109 in /usr/local/lib/python3.7/dist-packages (from tensorflow->keras-crf) (2.8.0.dev2021122109)\n",
            "Requirement already satisfied: tensorflow-io-gcs-filesystem>=0.23.1 in /usr/local/lib/python3.7/dist-packages (from tensorflow->keras-crf) (0.24.0)\n",
            "Requirement already satisfied: flatbuffers>=1.12 in /usr/local/lib/python3.7/dist-packages (from tensorflow->keras-crf) (2.0)\n",
            "Requirement already satisfied: protobuf>=3.9.2 in /usr/local/lib/python3.7/dist-packages (from tensorflow->keras-crf) (3.17.3)\n",
            "Requirement already satisfied: six>=1.12.0 in /usr/local/lib/python3.7/dist-packages (from tensorflow->keras-crf) (1.15.0)\n",
            "Requirement already satisfied: libclang>=9.0.1 in /usr/local/lib/python3.7/dist-packages (from tensorflow->keras-crf) (13.0.0)\n",
            "Requirement already satisfied: astunparse>=1.6.0 in /usr/local/lib/python3.7/dist-packages (from tensorflow->keras-crf) (1.6.3)\n",
            "Requirement already satisfied: typing-extensions>=3.6.6 in /usr/local/lib/python3.7/dist-packages (from tensorflow->keras-crf) (3.10.0.2)\n",
            "Requirement already satisfied: grpcio<2.0,>=1.24.3 in /usr/local/lib/python3.7/dist-packages (from tensorflow->keras-crf) (1.43.0)\n",
            "Requirement already satisfied: setuptools in /usr/local/lib/python3.7/dist-packages (from tensorflow->keras-crf) (57.4.0)\n",
            "Requirement already satisfied: absl-py>=0.4.0 in /usr/local/lib/python3.7/dist-packages (from tensorflow->keras-crf) (1.0.0)\n",
            "Requirement already satisfied: google-pasta>=0.1.1 in /usr/local/lib/python3.7/dist-packages (from tensorflow->keras-crf) (0.2.0)\n",
            "Requirement already satisfied: numpy>=1.20 in /usr/local/lib/python3.7/dist-packages (from tensorflow->keras-crf) (1.21.5)\n",
            "Requirement already satisfied: tensorboard<2.9,>=2.8 in /usr/local/lib/python3.7/dist-packages (from tensorflow->keras-crf) (2.8.0)\n",
            "Requirement already satisfied: gast>=0.2.1 in /usr/local/lib/python3.7/dist-packages (from tensorflow->keras-crf) (0.5.3)\n",
            "Requirement already satisfied: h5py>=2.9.0 in /usr/local/lib/python3.7/dist-packages (from tensorflow->keras-crf) (3.1.0)\n",
            "Requirement already satisfied: wrapt>=1.11.0 in /usr/local/lib/python3.7/dist-packages (from tensorflow->keras-crf) (1.13.3)\n",
            "Requirement already satisfied: keras-preprocessing>=1.1.1 in /usr/local/lib/python3.7/dist-packages (from tensorflow->keras-crf) (1.1.2)\n",
            "Requirement already satisfied: keras<2.9,>=2.8.0rc0 in /usr/local/lib/python3.7/dist-packages (from tensorflow->keras-crf) (2.8.0)\n",
            "Requirement already satisfied: termcolor>=1.1.0 in /usr/local/lib/python3.7/dist-packages (from tensorflow->keras-crf) (1.1.0)\n",
            "Requirement already satisfied: opt-einsum>=2.3.2 in /usr/local/lib/python3.7/dist-packages (from tensorflow->keras-crf) (3.3.0)\n",
            "Requirement already satisfied: wheel<1.0,>=0.23.0 in /usr/local/lib/python3.7/dist-packages (from astunparse>=1.6.0->tensorflow->keras-crf) (0.37.1)\n",
            "Requirement already satisfied: cached-property in /usr/local/lib/python3.7/dist-packages (from h5py>=2.9.0->tensorflow->keras-crf) (1.5.2)\n",
            "Requirement already satisfied: google-auth<3,>=1.6.3 in /usr/local/lib/python3.7/dist-packages (from tensorboard<2.9,>=2.8->tensorflow->keras-crf) (1.35.0)\n",
            "Requirement already satisfied: tensorboard-data-server<0.7.0,>=0.6.0 in /usr/local/lib/python3.7/dist-packages (from tensorboard<2.9,>=2.8->tensorflow->keras-crf) (0.6.1)\n",
            "Requirement already satisfied: google-auth-oauthlib<0.5,>=0.4.1 in /usr/local/lib/python3.7/dist-packages (from tensorboard<2.9,>=2.8->tensorflow->keras-crf) (0.4.6)\n",
            "Requirement already satisfied: tensorboard-plugin-wit>=1.6.0 in /usr/local/lib/python3.7/dist-packages (from tensorboard<2.9,>=2.8->tensorflow->keras-crf) (1.8.1)\n",
            "Requirement already satisfied: requests<3,>=2.21.0 in /usr/local/lib/python3.7/dist-packages (from tensorboard<2.9,>=2.8->tensorflow->keras-crf) (2.23.0)\n",
            "Requirement already satisfied: markdown>=2.6.8 in /usr/local/lib/python3.7/dist-packages (from tensorboard<2.9,>=2.8->tensorflow->keras-crf) (3.3.6)\n",
            "Requirement already satisfied: werkzeug>=0.11.15 in /usr/local/lib/python3.7/dist-packages (from tensorboard<2.9,>=2.8->tensorflow->keras-crf) (1.0.1)\n",
            "Requirement already satisfied: pyasn1-modules>=0.2.1 in /usr/local/lib/python3.7/dist-packages (from google-auth<3,>=1.6.3->tensorboard<2.9,>=2.8->tensorflow->keras-crf) (0.2.8)\n",
            "Requirement already satisfied: cachetools<5.0,>=2.0.0 in /usr/local/lib/python3.7/dist-packages (from google-auth<3,>=1.6.3->tensorboard<2.9,>=2.8->tensorflow->keras-crf) (4.2.4)\n",
            "Requirement already satisfied: rsa<5,>=3.1.4 in /usr/local/lib/python3.7/dist-packages (from google-auth<3,>=1.6.3->tensorboard<2.9,>=2.8->tensorflow->keras-crf) (4.8)\n",
            "Requirement already satisfied: requests-oauthlib>=0.7.0 in /usr/local/lib/python3.7/dist-packages (from google-auth-oauthlib<0.5,>=0.4.1->tensorboard<2.9,>=2.8->tensorflow->keras-crf) (1.3.1)\n",
            "Requirement already satisfied: importlib-metadata>=4.4 in /usr/local/lib/python3.7/dist-packages (from markdown>=2.6.8->tensorboard<2.9,>=2.8->tensorflow->keras-crf) (4.11.1)\n",
            "Requirement already satisfied: zipp>=0.5 in /usr/local/lib/python3.7/dist-packages (from importlib-metadata>=4.4->markdown>=2.6.8->tensorboard<2.9,>=2.8->tensorflow->keras-crf) (3.7.0)\n",
            "Requirement already satisfied: pyasn1<0.5.0,>=0.4.6 in /usr/local/lib/python3.7/dist-packages (from pyasn1-modules>=0.2.1->google-auth<3,>=1.6.3->tensorboard<2.9,>=2.8->tensorflow->keras-crf) (0.4.8)\n",
            "Requirement already satisfied: idna<3,>=2.5 in /usr/local/lib/python3.7/dist-packages (from requests<3,>=2.21.0->tensorboard<2.9,>=2.8->tensorflow->keras-crf) (2.10)\n",
            "Requirement already satisfied: certifi>=2017.4.17 in /usr/local/lib/python3.7/dist-packages (from requests<3,>=2.21.0->tensorboard<2.9,>=2.8->tensorflow->keras-crf) (2021.10.8)\n",
            "Requirement already satisfied: chardet<4,>=3.0.2 in /usr/local/lib/python3.7/dist-packages (from requests<3,>=2.21.0->tensorboard<2.9,>=2.8->tensorflow->keras-crf) (3.0.4)\n",
            "Requirement already satisfied: urllib3!=1.25.0,!=1.25.1,<1.26,>=1.21.1 in /usr/local/lib/python3.7/dist-packages (from requests<3,>=2.21.0->tensorboard<2.9,>=2.8->tensorflow->keras-crf) (1.24.3)\n",
            "Requirement already satisfied: oauthlib>=3.0.0 in /usr/local/lib/python3.7/dist-packages (from requests-oauthlib>=0.7.0->google-auth-oauthlib<0.5,>=0.4.1->tensorboard<2.9,>=2.8->tensorflow->keras-crf) (3.2.0)\n",
            "Requirement already satisfied: typeguard>=2.7 in /usr/local/lib/python3.7/dist-packages (from tensorflow-addons->keras-crf) (2.7.1)\n"
          ]
        }
      ],
      "source": [
        "!pip install keras-crf"
      ]
    },
    {
      "cell_type": "code",
      "execution_count": null,
      "metadata": {
        "id": "OJDm1hyK_FeR"
      },
      "outputs": [],
      "source": [
        "from keras_crf import CRFModel"
      ]
    },
    {
      "cell_type": "code",
      "execution_count": null,
      "metadata": {
        "id": "LEhiKwCAvHB_"
      },
      "outputs": [],
      "source": [
        "def text_clasifier_lstm(input_shape):\n",
        "\n",
        "\n",
        "    # Define sentence_indices as the input of the graph, it should be of shape input_shape and dtype 'int32' (as it contains indices).\n",
        "    input = Input(shape=input_shape)\n",
        "\n",
        "    X = Bidirectional(layers.LSTM(256, return_sequences=True,dropout=0.5))(input)\n",
        "    X = Bidirectional(layers.LSTM(256, activation='relu', return_sequences=True,go_backwards=True,dropout=0.5))(X)\n",
        "    # Propagate the embeddings through an LSTM layer with 128-dimensional hidden state\n",
        "    # Be careful, the returned output should be a batch of sequences.\n",
        "    X = LSTM(128, return_sequences=True)(X)\n",
        "    # Add dropout with a probability of 0.1\n",
        "    X = Dropout(0.3)(X)\n",
        "    # Propagate X trough another LSTM layer with 128-dimensional hidden state\n",
        "    # Be careful, the returned output should be a single hidden state, not a batch of sequences.\n",
        "    X = LSTM(128,return_sequences=True,go_backwards=True)(X)\n",
        "    # Add dropout with a probability of 0.1\n",
        "    X = Dropout(0.3)(X)\n",
        "    # Propagate X through a Dense layer with softmax activation to get back a batch of 5-dimensional vectors.\n",
        "    X = Dense(64)(X)\n",
        "    # Add a softmax activation\n",
        "    #X = Activation('softmax')(X)\n",
        "    #main_lstm = layers.TimeDistributed(Dense(16, activation=\"relu\"))(X)\n",
        "    base=tf.keras.Model(inputs=input,outputs=X)\n",
        "    model=CRFModel(base,18)\n",
        "    # CRF\n",
        "    #crf = CRF(17)  # CRF layer\n",
        "    #out = crf(main_lstm)  # output\n",
        "    # Create Model instance which converts sentence_indices into X.\n",
        "    #model = Model(input, out)\n",
        "\n",
        "    return model"
      ]
    },
    {
      "cell_type": "code",
      "execution_count": null,
      "metadata": {
        "colab": {
          "base_uri": "https://localhost:8080/"
        },
        "id": "zP_tYoZuvMT2",
        "outputId": "80218720-2c5b-4afe-feeb-38bf92fc81bd"
      },
      "outputs": [
        {
          "output_type": "stream",
          "name": "stdout",
          "text": [
            "WARNING:tensorflow:Layer lstm_1 will not use cuDNN kernels since it doesn't meet the criteria. It will use a generic GPU kernel as fallback when running on GPU.\n",
            "WARNING:tensorflow:Layer lstm_1 will not use cuDNN kernels since it doesn't meet the criteria. It will use a generic GPU kernel as fallback when running on GPU.\n",
            "WARNING:tensorflow:Layer lstm_1 will not use cuDNN kernels since it doesn't meet the criteria. It will use a generic GPU kernel as fallback when running on GPU.\n"
          ]
        }
      ],
      "source": [
        "model = text_clasifier_lstm((18,768))"
      ]
    },
    {
      "cell_type": "code",
      "execution_count": null,
      "metadata": {
        "colab": {
          "base_uri": "https://localhost:8080/"
        },
        "id": "HbsuBPpmwkGO",
        "outputId": "c184bf2d-1eed-4d7c-c258-a27b830215bb"
      },
      "outputs": [
        {
          "output_type": "stream",
          "name": "stdout",
          "text": [
            "Model: \"crf_model\"\n",
            "__________________________________________________________________________________________________\n",
            " Layer (type)                   Output Shape         Param #     Connected to                     \n",
            "==================================================================================================\n",
            " input_1 (InputLayer)           [(None, 18, 768)]    0           []                               \n",
            "                                                                                                  \n",
            " bidirectional (Bidirectional)  (None, 18, 512)      2099200     ['input_1[0][0]']                \n",
            "                                                                                                  \n",
            " bidirectional_1 (Bidirectional  (None, 18, 512)     1574912     ['bidirectional[0][0]']          \n",
            " )                                                                                                \n",
            "                                                                                                  \n",
            " lstm_2 (LSTM)                  (None, 18, 128)      328192      ['bidirectional_1[0][0]']        \n",
            "                                                                                                  \n",
            " dropout (Dropout)              (None, 18, 128)      0           ['lstm_2[0][0]']                 \n",
            "                                                                                                  \n",
            " lstm_3 (LSTM)                  (None, 18, 128)      131584      ['dropout[0][0]']                \n",
            "                                                                                                  \n",
            " dropout_1 (Dropout)            (None, 18, 128)      0           ['lstm_3[0][0]']                 \n",
            "                                                                                                  \n",
            " dense (Dense)                  (None, 18, 64)       8256        ['dropout_1[0][0]']              \n",
            "                                                                                                  \n",
            " crf (CRF)                      [(None, 18),         1530        ['dense[0][0]']                  \n",
            "                                 (None, 18, 18),                                                  \n",
            "                                 (None,),                                                         \n",
            "                                 (18, 18)]                                                        \n",
            "                                                                                                  \n",
            " decode_sequence (Lambda)       (None, 18)           0           ['crf[0][0]']                    \n",
            "                                                                                                  \n",
            " potentials (Lambda)            (None, 18, 18)       0           ['crf[0][1]']                    \n",
            "                                                                                                  \n",
            " sequence_length (Lambda)       (None,)              0           ['crf[0][2]']                    \n",
            "                                                                                                  \n",
            " kernel (Lambda)                (18, 18)             0           ['crf[0][3]']                    \n",
            "                                                                                                  \n",
            "==================================================================================================\n",
            "Total params: 4,143,674\n",
            "Trainable params: 4,143,674\n",
            "Non-trainable params: 0\n",
            "__________________________________________________________________________________________________\n"
          ]
        }
      ],
      "source": [
        "model.summary()"
      ]
    },
    {
      "cell_type": "code",
      "execution_count": null,
      "metadata": {
        "colab": {
          "base_uri": "https://localhost:8080/"
        },
        "id": "NpU5iqUr0uVG",
        "outputId": "ed413833-bcc7-448b-fea7-361d8d117b82"
      },
      "outputs": [
        {
          "output_type": "stream",
          "name": "stderr",
          "text": [
            "100%|██████████| 154336/154336 [00:00<00:00, 343975.94it/s]\n"
          ]
        }
      ],
      "source": [
        "Y_train = []\n",
        "for i in tqdm(range(0,len(relabel),18)):\n",
        "  if i < len(relabel)-18:\n",
        "    temp = relabel[i:i+18]\n",
        "  else:\n",
        "    temp = relabel[i:len(relabel)]\n",
        "    temp0 = 2\n",
        "    for j in range(18-(len(relabel)-i)):\n",
        "      temp.append(temp0)\n",
        "  Y_train.append(temp)"
      ]
    },
    {
      "cell_type": "code",
      "execution_count": null,
      "metadata": {
        "id": "KtYT0gNzwz-f"
      },
      "outputs": [],
      "source": [
        "del temp,temp0,relabel\n",
        "gc.collect()\n",
        "Y_train = np.asarray(Y_train,dtype='float32')"
      ]
    },
    {
      "cell_type": "code",
      "execution_count": null,
      "metadata": {
        "colab": {
          "base_uri": "https://localhost:8080/"
        },
        "id": "tRjnmrBH1r8t",
        "outputId": "a1a7d62f-8a66-4f76-e9c4-233dead4bf21"
      },
      "outputs": [
        {
          "output_type": "execute_result",
          "data": {
            "text/plain": [
              "(173628, 16)"
            ]
          },
          "metadata": {},
          "execution_count": 44
        }
      ],
      "source": [
        "Y_train.shape"
      ]
    },
    {
      "cell_type": "code",
      "execution_count": null,
      "metadata": {
        "id": "Xz2Ubxxd74Na"
      },
      "outputs": [],
      "source": [
        "path1 = \"/content/super-ai-engineer-2021-nlp-pos-tagging/train/LST20 (Main Resource)/LST20_Corpus/LST20_Corpus/eval/\""
      ]
    },
    {
      "cell_type": "code",
      "execution_count": null,
      "metadata": {
        "id": "N8XxuyaLcioS"
      },
      "outputs": [],
      "source": [
        "dir_list1 = os.listdir(path1)\n",
        "dir_list1.sort()\n",
        "dir_list1=dir_list1[1:]"
      ]
    },
    {
      "cell_type": "code",
      "execution_count": null,
      "metadata": {
        "id": "kGCGoqpoh4pW"
      },
      "outputs": [],
      "source": [
        "word1=[]\n",
        "pos1=[]\n",
        "for file in dir_list1:\n",
        "  file3 = open(path1+file, 'r')\n",
        "  Lines = file3.readlines()\n",
        "  for line in Lines:\n",
        "    if line == \"\\n\":\n",
        "      word1.append(\"_\")\n",
        "      pos1.append(\"PU\")\n",
        "    else:\n",
        "      word1.append(line.split(\"\\t\")[0])\n",
        "      pos1.append(line.split(\"\\t\")[1])\n",
        "  file3.close()"
      ]
    },
    {
      "cell_type": "code",
      "execution_count": null,
      "metadata": {
        "id": "Q2QPZmt5iNRm"
      },
      "outputs": [],
      "source": [
        "All_data1 = pd.DataFrame()\n",
        "All_data1[\"word\"]=word1\n",
        "All_data1[\"POS\"]=pos1"
      ]
    },
    {
      "cell_type": "code",
      "execution_count": null,
      "metadata": {
        "colab": {
          "base_uri": "https://localhost:8080/",
          "height": 423
        },
        "id": "WOG8tpThevuq",
        "outputId": "b7a69b96-e5d7-45da-cfe4-3123ad7a35e7"
      },
      "outputs": [
        {
          "data": {
            "text/html": [
              "\n",
              "  <div id=\"df-19f23287-2735-41db-bf9a-4b1a35716731\">\n",
              "    <div class=\"colab-df-container\">\n",
              "      <div>\n",
              "<style scoped>\n",
              "    .dataframe tbody tr th:only-of-type {\n",
              "        vertical-align: middle;\n",
              "    }\n",
              "\n",
              "    .dataframe tbody tr th {\n",
              "        vertical-align: top;\n",
              "    }\n",
              "\n",
              "    .dataframe thead th {\n",
              "        text-align: right;\n",
              "    }\n",
              "</style>\n",
              "<table border=\"1\" class=\"dataframe\">\n",
              "  <thead>\n",
              "    <tr style=\"text-align: right;\">\n",
              "      <th></th>\n",
              "      <th>word</th>\n",
              "      <th>POS</th>\n",
              "    </tr>\n",
              "  </thead>\n",
              "  <tbody>\n",
              "    <tr>\n",
              "      <th>0</th>\n",
              "      <td>สลด</td>\n",
              "      <td>VV</td>\n",
              "    </tr>\n",
              "    <tr>\n",
              "      <th>1</th>\n",
              "      <td>ผัว</td>\n",
              "      <td>NN</td>\n",
              "    </tr>\n",
              "    <tr>\n",
              "      <th>2</th>\n",
              "      <td>เมีย</td>\n",
              "      <td>NN</td>\n",
              "    </tr>\n",
              "    <tr>\n",
              "      <th>3</th>\n",
              "      <td>เฒ่า</td>\n",
              "      <td>NN</td>\n",
              "    </tr>\n",
              "    <tr>\n",
              "      <th>4</th>\n",
              "      <td>ถูก</td>\n",
              "      <td>AX</td>\n",
              "    </tr>\n",
              "    <tr>\n",
              "      <th>...</th>\n",
              "      <td>...</td>\n",
              "      <td>...</td>\n",
              "    </tr>\n",
              "    <tr>\n",
              "      <th>246475</th>\n",
              "      <td>ขอ</td>\n",
              "      <td>VV</td>\n",
              "    </tr>\n",
              "    <tr>\n",
              "      <th>246476</th>\n",
              "      <td>ไว้</td>\n",
              "      <td>AV</td>\n",
              "    </tr>\n",
              "    <tr>\n",
              "      <th>246477</th>\n",
              "      <td>ดูแล</td>\n",
              "      <td>VV</td>\n",
              "    </tr>\n",
              "    <tr>\n",
              "      <th>246478</th>\n",
              "      <td>เอง</td>\n",
              "      <td>AV</td>\n",
              "    </tr>\n",
              "    <tr>\n",
              "      <th>246479</th>\n",
              "      <td>_</td>\n",
              "      <td>PU</td>\n",
              "    </tr>\n",
              "  </tbody>\n",
              "</table>\n",
              "<p>246480 rows × 2 columns</p>\n",
              "</div>\n",
              "      <button class=\"colab-df-convert\" onclick=\"convertToInteractive('df-19f23287-2735-41db-bf9a-4b1a35716731')\"\n",
              "              title=\"Convert this dataframe to an interactive table.\"\n",
              "              style=\"display:none;\">\n",
              "        \n",
              "  <svg xmlns=\"http://www.w3.org/2000/svg\" height=\"24px\"viewBox=\"0 0 24 24\"\n",
              "       width=\"24px\">\n",
              "    <path d=\"M0 0h24v24H0V0z\" fill=\"none\"/>\n",
              "    <path d=\"M18.56 5.44l.94 2.06.94-2.06 2.06-.94-2.06-.94-.94-2.06-.94 2.06-2.06.94zm-11 1L8.5 8.5l.94-2.06 2.06-.94-2.06-.94L8.5 2.5l-.94 2.06-2.06.94zm10 10l.94 2.06.94-2.06 2.06-.94-2.06-.94-.94-2.06-.94 2.06-2.06.94z\"/><path d=\"M17.41 7.96l-1.37-1.37c-.4-.4-.92-.59-1.43-.59-.52 0-1.04.2-1.43.59L10.3 9.45l-7.72 7.72c-.78.78-.78 2.05 0 2.83L4 21.41c.39.39.9.59 1.41.59.51 0 1.02-.2 1.41-.59l7.78-7.78 2.81-2.81c.8-.78.8-2.07 0-2.86zM5.41 20L4 18.59l7.72-7.72 1.47 1.35L5.41 20z\"/>\n",
              "  </svg>\n",
              "      </button>\n",
              "      \n",
              "  <style>\n",
              "    .colab-df-container {\n",
              "      display:flex;\n",
              "      flex-wrap:wrap;\n",
              "      gap: 12px;\n",
              "    }\n",
              "\n",
              "    .colab-df-convert {\n",
              "      background-color: #E8F0FE;\n",
              "      border: none;\n",
              "      border-radius: 50%;\n",
              "      cursor: pointer;\n",
              "      display: none;\n",
              "      fill: #1967D2;\n",
              "      height: 32px;\n",
              "      padding: 0 0 0 0;\n",
              "      width: 32px;\n",
              "    }\n",
              "\n",
              "    .colab-df-convert:hover {\n",
              "      background-color: #E2EBFA;\n",
              "      box-shadow: 0px 1px 2px rgba(60, 64, 67, 0.3), 0px 1px 3px 1px rgba(60, 64, 67, 0.15);\n",
              "      fill: #174EA6;\n",
              "    }\n",
              "\n",
              "    [theme=dark] .colab-df-convert {\n",
              "      background-color: #3B4455;\n",
              "      fill: #D2E3FC;\n",
              "    }\n",
              "\n",
              "    [theme=dark] .colab-df-convert:hover {\n",
              "      background-color: #434B5C;\n",
              "      box-shadow: 0px 1px 3px 1px rgba(0, 0, 0, 0.15);\n",
              "      filter: drop-shadow(0px 1px 2px rgba(0, 0, 0, 0.3));\n",
              "      fill: #FFFFFF;\n",
              "    }\n",
              "  </style>\n",
              "\n",
              "      <script>\n",
              "        const buttonEl =\n",
              "          document.querySelector('#df-19f23287-2735-41db-bf9a-4b1a35716731 button.colab-df-convert');\n",
              "        buttonEl.style.display =\n",
              "          google.colab.kernel.accessAllowed ? 'block' : 'none';\n",
              "\n",
              "        async function convertToInteractive(key) {\n",
              "          const element = document.querySelector('#df-19f23287-2735-41db-bf9a-4b1a35716731');\n",
              "          const dataTable =\n",
              "            await google.colab.kernel.invokeFunction('convertToInteractive',\n",
              "                                                     [key], {});\n",
              "          if (!dataTable) return;\n",
              "\n",
              "          const docLinkHtml = 'Like what you see? Visit the ' +\n",
              "            '<a target=\"_blank\" href=https://colab.research.google.com/notebooks/data_table.ipynb>data table notebook</a>'\n",
              "            + ' to learn more about interactive tables.';\n",
              "          element.innerHTML = '';\n",
              "          dataTable['output_type'] = 'display_data';\n",
              "          await google.colab.output.renderOutput(dataTable, element);\n",
              "          const docLink = document.createElement('div');\n",
              "          docLink.innerHTML = docLinkHtml;\n",
              "          element.appendChild(docLink);\n",
              "        }\n",
              "      </script>\n",
              "    </div>\n",
              "  </div>\n",
              "  "
            ],
            "text/plain": [
              "        word POS\n",
              "0        สลด  VV\n",
              "1        ผัว  NN\n",
              "2       เมีย  NN\n",
              "3       เฒ่า  NN\n",
              "4        ถูก  AX\n",
              "...      ...  ..\n",
              "246475    ขอ  VV\n",
              "246476   ไว้  AV\n",
              "246477  ดูแล  VV\n",
              "246478   เอง  AV\n",
              "246479     _  PU\n",
              "\n",
              "[246480 rows x 2 columns]"
            ]
          },
          "execution_count": 44,
          "metadata": {},
          "output_type": "execute_result"
        }
      ],
      "source": [
        "All_data1"
      ]
    },
    {
      "cell_type": "code",
      "execution_count": null,
      "metadata": {
        "colab": {
          "base_uri": "https://localhost:8080/"
        },
        "id": "Epc4g2S4vPPe",
        "outputId": "85d7018a-a16e-4d25-b9c8-a324b7743e57"
      },
      "outputs": [
        {
          "output_type": "execute_result",
          "data": {
            "text/plain": [
              "131"
            ]
          },
          "metadata": {},
          "execution_count": 43
        }
      ],
      "source": [
        "del dir_list1, word1,pos1\n",
        "gc.collect()"
      ]
    },
    {
      "cell_type": "code",
      "execution_count": null,
      "metadata": {
        "id": "S489HWhdidTe"
      },
      "outputs": [],
      "source": [
        "m=len(All_data1)//256"
      ]
    },
    {
      "cell_type": "code",
      "execution_count": null,
      "metadata": {
        "colab": {
          "base_uri": "https://localhost:8080/"
        },
        "id": "kzYwNhxxdbPE",
        "outputId": "53d3dc88-300c-448f-ff4e-258eac185aff"
      },
      "outputs": [
        {
          "output_type": "stream",
          "name": "stderr",
          "text": [
            "100%|██████████| 963/963 [01:50<00:00,  8.74it/s]\n"
          ]
        }
      ],
      "source": [
        "emb_list1=[]\n",
        "for i in tqdm(range(m+1)):\n",
        "  if i==m:\n",
        "    embeddings = model_emb.encode(list(All_data1.iloc[256*i:len(All_data1[\"word\"]),0]))\n",
        "  else:\n",
        "    embeddings = model_emb.encode(list(All_data1.iloc[256*i:(256*(i+1)),0]))\n",
        "  emb_list1=emb_list1+list(embeddings)"
      ]
    },
    {
      "cell_type": "code",
      "execution_count": null,
      "metadata": {
        "colab": {
          "base_uri": "https://localhost:8080/"
        },
        "id": "80-jhSYO5CCw",
        "outputId": "a8db50f1-582b-41e7-87aa-d74aa5efc817"
      },
      "outputs": [
        {
          "data": {
            "text/plain": [
              "246480"
            ]
          },
          "execution_count": 47,
          "metadata": {},
          "output_type": "execute_result"
        }
      ],
      "source": [
        "len(emb_list1)"
      ]
    },
    {
      "cell_type": "code",
      "execution_count": null,
      "metadata": {
        "id": "X5hHlQNdeUKy"
      },
      "outputs": [],
      "source": [
        "relabel1=[]\n",
        "for i in All_data1['POS']:\n",
        "  relabel1.append(converlabel(Pos_unique,i))"
      ]
    },
    {
      "cell_type": "code",
      "execution_count": null,
      "metadata": {
        "colab": {
          "base_uri": "https://localhost:8080/"
        },
        "id": "Su8L-MRZ49eQ",
        "outputId": "8368aeb3-290a-4344-b119-3867ac3ff4aa"
      },
      "outputs": [
        {
          "data": {
            "text/plain": [
              "246480"
            ]
          },
          "execution_count": 49,
          "metadata": {},
          "output_type": "execute_result"
        }
      ],
      "source": [
        "len(relabel1)"
      ]
    },
    {
      "cell_type": "code",
      "execution_count": null,
      "metadata": {
        "colab": {
          "base_uri": "https://localhost:8080/"
        },
        "id": "ypA3LD_3ve2O",
        "outputId": "17efa282-2553-4b19-ad63-43026fca12db"
      },
      "outputs": [
        {
          "output_type": "execute_result",
          "data": {
            "text/plain": [
              "261"
            ]
          },
          "metadata": {},
          "execution_count": 47
        }
      ],
      "source": [
        "del embeddings\n",
        "gc.collect()"
      ]
    },
    {
      "cell_type": "code",
      "execution_count": null,
      "metadata": {
        "colab": {
          "base_uri": "https://localhost:8080/"
        },
        "id": "95hxUGpQr7oI",
        "outputId": "41798249-7168-4f2f-e572-dff72984e2fa"
      },
      "outputs": [
        {
          "output_type": "stream",
          "name": "stderr",
          "text": [
            "100%|██████████| 13694/13694 [00:00<00:00, 650620.74it/s]\n"
          ]
        }
      ],
      "source": [
        "new_emb_list1 = []\n",
        "for i in tqdm(range(0,len(emb_list1),18)):\n",
        "  if len(emb_list1)-i<18:\n",
        "    temp = emb_list1[i:len(emb_list1)]\n",
        "    temp0 = [0]*768\n",
        "    for j in range(18-(len(emb_list1)-i)):\n",
        "      temp.append(temp0)\n",
        "    new_emb_list1.append(temp)\n",
        "  else:\n",
        "    new_emb_list1.append(emb_list1[i:i+18])"
      ]
    },
    {
      "cell_type": "code",
      "execution_count": null,
      "metadata": {
        "id": "oM4YfqNgkIuo"
      },
      "outputs": [],
      "source": [
        "#del temp,temp0,embeddings,emb_list1\n",
        "#gc.collect()\n",
        "new_emb_list1 = np.asarray(new_emb_list1,dtype='float32')"
      ]
    },
    {
      "cell_type": "code",
      "execution_count": null,
      "metadata": {
        "colab": {
          "base_uri": "https://localhost:8080/"
        },
        "id": "fCXMYpNx3AMQ",
        "outputId": "f0d585ad-87d7-4dd4-bf0e-e24925cee184"
      },
      "outputs": [
        {
          "data": {
            "text/plain": [
              "(15405, 16, 768)"
            ]
          },
          "execution_count": 50,
          "metadata": {},
          "output_type": "execute_result"
        }
      ],
      "source": [
        "new_emb_list1.shape"
      ]
    },
    {
      "cell_type": "code",
      "execution_count": null,
      "metadata": {
        "colab": {
          "base_uri": "https://localhost:8080/"
        },
        "id": "vsJ7HfaQdujR",
        "outputId": "a8bae9f4-19ce-4e2b-d249-e0cd8cf23365"
      },
      "outputs": [
        {
          "output_type": "stream",
          "name": "stderr",
          "text": [
            "100%|██████████| 13694/13694 [00:00<00:00, 688979.78it/s]\n"
          ]
        }
      ],
      "source": [
        "Y_val = []\n",
        "for i in tqdm(range(0,len(relabel1),18)):\n",
        "  if len(emb_list1)-i<18:\n",
        "    temp = relabel1[i:len(relabel1)]\n",
        "    temp0=0\n",
        "    for j in range(18-(len(relabel1)-i)):\n",
        "      temp.append(temp0)\n",
        "    Y_val.append(temp)\n",
        "  else:\n",
        "    Y_val.append(relabel1[i:i+18])"
      ]
    },
    {
      "cell_type": "code",
      "execution_count": null,
      "metadata": {
        "id": "vERcVL0kOHup"
      },
      "outputs": [],
      "source": [
        "Y_val=np.asarray(Y_val,dtype='float32')"
      ]
    },
    {
      "cell_type": "code",
      "execution_count": null,
      "metadata": {
        "colab": {
          "base_uri": "https://localhost:8080/"
        },
        "id": "PtSUlezH3h0G",
        "outputId": "39dae7e6-aa07-4027-b89e-22ecf7d89a0e"
      },
      "outputs": [
        {
          "data": {
            "text/plain": [
              "(15405, 16)"
            ]
          },
          "execution_count": 56,
          "metadata": {},
          "output_type": "execute_result"
        }
      ],
      "source": [
        "Y_val.shape"
      ]
    },
    {
      "cell_type": "code",
      "execution_count": null,
      "metadata": {
        "colab": {
          "base_uri": "https://localhost:8080/",
          "height": 182
        },
        "id": "tPBdu7t0wdjB",
        "outputId": "286297ad-6620-439a-d996-f1be93586626"
      },
      "outputs": [
        {
          "output_type": "error",
          "ename": "NameError",
          "evalue": "ignored",
          "traceback": [
            "\u001b[0;31m---------------------------------------------------------------------------\u001b[0m",
            "\u001b[0;31mNameError\u001b[0m                                 Traceback (most recent call last)",
            "\u001b[0;32m<ipython-input-55-976ed82a8ff7>\u001b[0m in \u001b[0;36m<module>\u001b[0;34m()\u001b[0m\n\u001b[0;32m----> 1\u001b[0;31m \u001b[0;32mdel\u001b[0m \u001b[0mtemp\u001b[0m\u001b[0;34m,\u001b[0m\u001b[0mtemp0\u001b[0m\u001b[0;34m\u001b[0m\u001b[0;34m\u001b[0m\u001b[0m\n\u001b[0m\u001b[1;32m      2\u001b[0m \u001b[0mgc\u001b[0m\u001b[0;34m.\u001b[0m\u001b[0mcollect\u001b[0m\u001b[0;34m(\u001b[0m\u001b[0;34m)\u001b[0m\u001b[0;34m\u001b[0m\u001b[0;34m\u001b[0m\u001b[0m\n",
            "\u001b[0;31mNameError\u001b[0m: name 'temp' is not defined"
          ]
        }
      ],
      "source": [
        "del temp,temp0\n",
        "gc.collect()"
      ]
    },
    {
      "cell_type": "code",
      "execution_count": null,
      "metadata": {
        "id": "SueM-8Z45QlM"
      },
      "outputs": [],
      "source": [
        "from keras import backend as K\n",
        "\n",
        "def dice_coef(y_true, y_pred, smooth=1):\n",
        "    \"\"\"\n",
        "    Dice = (2*|X & Y|)/ (|X|+ |Y|)\n",
        "         =  2*sum(|A*B|)/(sum(A^2)+sum(B^2))\n",
        "    ref: https://arxiv.org/pdf/1606.04797v1.pdf\n",
        "    \"\"\"\n",
        "    intersection = K.sum(K.abs(y_true * y_pred), axis=-1)\n",
        "    return (2. * intersection + smooth) / (K.sum(K.square(y_true),-1) + K.sum(K.square(y_pred),-1) + smooth)\n",
        "\n",
        "def dice_coef_loss(y_true, y_pred):\n",
        "    return 1-dice_coef(y_true, y_pred)"
      ]
    },
    {
      "cell_type": "code",
      "execution_count": null,
      "metadata": {
        "id": "DMvx9s8wQre3"
      },
      "outputs": [],
      "source": [
        "import keras.backend as K\n",
        "\n",
        "def f1_metric(y_true, y_pred):\n",
        "    true_positives = K.sum(K.round(K.clip(y_true * y_pred, 0, 1)))\n",
        "    possible_positives = K.sum(K.round(K.clip(y_true, 0, 1)))\n",
        "    predicted_positives = K.sum(K.round(K.clip(y_pred, 0, 1)))\n",
        "    precision = true_positives / (predicted_positives + K.epsilon())\n",
        "    recall = true_positives / (possible_positives + K.epsilon())\n",
        "    f1_val = 2*(precision*recall)/(precision+recall+K.epsilon())\n",
        "    return f1_val"
      ]
    },
    {
      "cell_type": "code",
      "source": [
        "gc.collect()"
      ],
      "metadata": {
        "colab": {
          "base_uri": "https://localhost:8080/"
        },
        "id": "8nYKmNNQYRq5",
        "outputId": "4f338da0-50ba-4fa3-be7d-1362b85dc443"
      },
      "execution_count": null,
      "outputs": [
        {
          "output_type": "execute_result",
          "data": {
            "text/plain": [
              "1843"
            ]
          },
          "metadata": {},
          "execution_count": 59
        }
      ]
    },
    {
      "cell_type": "code",
      "execution_count": null,
      "metadata": {
        "colab": {
          "base_uri": "https://localhost:8080/"
        },
        "id": "V0iNunl6vzrY",
        "outputId": "89674307-cea5-4765-8349-3493b98c24d2"
      },
      "outputs": [
        {
          "output_type": "stream",
          "name": "stderr",
          "text": [
            "/usr/local/lib/python3.7/dist-packages/keras/optimizer_v2/adam.py:105: UserWarning: The `lr` argument is deprecated, use `learning_rate` instead.\n",
            "  super(Adam, self).__init__(name, **kwargs)\n"
          ]
        }
      ],
      "source": [
        "checkpoint=tf.keras.callbacks.ModelCheckpoint(filepath='/content/drive/MyDrive/NLP_POS/best_model5nnn.h5')\n",
        "adam = tf.keras.optimizers.Adam(lr=0.0005)\n",
        "model.compile(optimizer=adam, loss=dice_coef_loss, metrics=[\"accuracy\"])"
      ]
    },
    {
      "cell_type": "code",
      "execution_count": null,
      "metadata": {
        "colab": {
          "base_uri": "https://localhost:8080/"
        },
        "id": "ouMU-xgkrqx2",
        "outputId": "decc3020-ab70-4074-fe99-484e79263367"
      },
      "outputs": [
        {
          "output_type": "stream",
          "name": "stdout",
          "text": [
            "Epoch 1/4\n",
            "4823/4823 [==============================] - 269s 53ms/step - decode_sequence_accuracy: 0.9188 - loss: 4.6010 - val_decode_sequence_accuracy: 0.9554 - val_loss: 3.3356\n",
            "Epoch 2/4\n",
            "4823/4823 [==============================] - 253s 52ms/step - decode_sequence_accuracy: 0.9545 - loss: 2.3559 - val_decode_sequence_accuracy: 0.9598 - val_loss: 3.1277\n",
            "Epoch 3/4\n",
            "4823/4823 [==============================] - 253s 52ms/step - decode_sequence_accuracy: 0.9578 - loss: 2.8250 - val_decode_sequence_accuracy: 0.9602 - val_loss: 2.7952\n",
            "Epoch 4/4\n",
            "4823/4823 [==============================] - 253s 53ms/step - decode_sequence_accuracy: 0.9594 - loss: 3.0120 - val_decode_sequence_accuracy: 0.9613 - val_loss: 4.8338\n"
          ]
        },
        {
          "output_type": "execute_result",
          "data": {
            "text/plain": [
              "<keras.callbacks.History at 0x7fe256049a90>"
            ]
          },
          "metadata": {},
          "execution_count": 58
        }
      ],
      "source": [
        "model.fit(new_emb_list, Y_train, epochs = 4, batch_size = 32, shuffle=True,validation_data=(new_emb_list1,Y_val), callbacks=[checkpoint])"
      ]
    },
    {
      "cell_type": "code",
      "source": [
        "!gdown --id 1ZfMnw7YJqLIrbvewDyHnhykfk299fZXW"
      ],
      "metadata": {
        "id": "DcPahzKl822U"
      },
      "execution_count": null,
      "outputs": []
    },
    {
      "cell_type": "code",
      "execution_count": null,
      "metadata": {
        "id": "vinhoPtk72M2"
      },
      "outputs": [],
      "source": [
        "model.save('/content/drive/MyDrive/POSTAG/model3.h5')"
      ]
    },
    {
      "cell_type": "code",
      "execution_count": null,
      "metadata": {
        "id": "IKwgDh0QjXyJ"
      },
      "outputs": [],
      "source": [
        "path2 = \"/content/super-ai-engineer-2021-nlp-pos-tagging/train/LST20 (Main Resource)/LST20_Corpus/LST20_Corpus/test/\""
      ]
    },
    {
      "cell_type": "code",
      "execution_count": null,
      "metadata": {
        "id": "JSsHjOMdjeEa"
      },
      "outputs": [],
      "source": [
        "dir_list2 = os.listdir(path2)\n",
        "dir_list2.sort()\n",
        "dir_list2=dir_list2[1:]"
      ]
    },
    {
      "cell_type": "code",
      "execution_count": null,
      "metadata": {
        "id": "qi5tpTBkpz1w"
      },
      "outputs": [],
      "source": [
        "All_data2=pd.DataFrame()\n",
        "for file in dir_list2:\n",
        "  data = pd.DataFrame(pd.read_csv(path2+file,sep='\\t',header=None,names=['word','POS','NER','boundary'], quotechar=' '))\n",
        "  All_data2=All_data2.append(data, ignore_index=True)"
      ]
    },
    {
      "cell_type": "code",
      "execution_count": null,
      "metadata": {
        "colab": {
          "base_uri": "https://localhost:8080/",
          "height": 423
        },
        "id": "qurkmI_fjmdQ",
        "outputId": "c077f024-fc42-4cf7-8455-547e5b43e4ee"
      },
      "outputs": [
        {
          "data": {
            "text/html": [
              "\n",
              "  <div id=\"df-1d06282c-a575-4f8d-8947-19c79f5e060a\">\n",
              "    <div class=\"colab-df-container\">\n",
              "      <div>\n",
              "<style scoped>\n",
              "    .dataframe tbody tr th:only-of-type {\n",
              "        vertical-align: middle;\n",
              "    }\n",
              "\n",
              "    .dataframe tbody tr th {\n",
              "        vertical-align: top;\n",
              "    }\n",
              "\n",
              "    .dataframe thead th {\n",
              "        text-align: right;\n",
              "    }\n",
              "</style>\n",
              "<table border=\"1\" class=\"dataframe\">\n",
              "  <thead>\n",
              "    <tr style=\"text-align: right;\">\n",
              "      <th></th>\n",
              "      <th>word</th>\n",
              "      <th>POS</th>\n",
              "      <th>NER</th>\n",
              "      <th>boundary</th>\n",
              "    </tr>\n",
              "  </thead>\n",
              "  <tbody>\n",
              "    <tr>\n",
              "      <th>0</th>\n",
              "      <td>จีน</td>\n",
              "      <td>NN</td>\n",
              "      <td>B_LOC</td>\n",
              "      <td>B_CLS</td>\n",
              "    </tr>\n",
              "    <tr>\n",
              "      <th>1</th>\n",
              "      <td>-</td>\n",
              "      <td>PU</td>\n",
              "      <td>O</td>\n",
              "      <td>I_CLS</td>\n",
              "    </tr>\n",
              "    <tr>\n",
              "      <th>2</th>\n",
              "      <td>อินเดีย</td>\n",
              "      <td>NN</td>\n",
              "      <td>B_LOC</td>\n",
              "      <td>I_CLS</td>\n",
              "    </tr>\n",
              "    <tr>\n",
              "      <th>3</th>\n",
              "      <td>เสี่ยง</td>\n",
              "      <td>VV</td>\n",
              "      <td>O</td>\n",
              "      <td>I_CLS</td>\n",
              "    </tr>\n",
              "    <tr>\n",
              "      <th>4</th>\n",
              "      <td>สูญเสีย</td>\n",
              "      <td>VV</td>\n",
              "      <td>O</td>\n",
              "      <td>I_CLS</td>\n",
              "    </tr>\n",
              "    <tr>\n",
              "      <th>...</th>\n",
              "      <td>...</td>\n",
              "      <td>...</td>\n",
              "      <td>...</td>\n",
              "      <td>...</td>\n",
              "    </tr>\n",
              "    <tr>\n",
              "      <th>207273</th>\n",
              "      <td>ครหา</td>\n",
              "      <td>VV</td>\n",
              "      <td>O</td>\n",
              "      <td>I_CLS</td>\n",
              "    </tr>\n",
              "    <tr>\n",
              "      <th>207274</th>\n",
              "      <td>เกี่ยวกับ</td>\n",
              "      <td>VV</td>\n",
              "      <td>O</td>\n",
              "      <td>I_CLS</td>\n",
              "    </tr>\n",
              "    <tr>\n",
              "      <th>207275</th>\n",
              "      <td>ความ</td>\n",
              "      <td>FX</td>\n",
              "      <td>O</td>\n",
              "      <td>I_CLS</td>\n",
              "    </tr>\n",
              "    <tr>\n",
              "      <th>207276</th>\n",
              "      <td>ไม่</td>\n",
              "      <td>NG</td>\n",
              "      <td>O</td>\n",
              "      <td>I_CLS</td>\n",
              "    </tr>\n",
              "    <tr>\n",
              "      <th>207277</th>\n",
              "      <td>ถูกต้อง</td>\n",
              "      <td>VV</td>\n",
              "      <td>O</td>\n",
              "      <td>E_CLS</td>\n",
              "    </tr>\n",
              "  </tbody>\n",
              "</table>\n",
              "<p>207278 rows × 4 columns</p>\n",
              "</div>\n",
              "      <button class=\"colab-df-convert\" onclick=\"convertToInteractive('df-1d06282c-a575-4f8d-8947-19c79f5e060a')\"\n",
              "              title=\"Convert this dataframe to an interactive table.\"\n",
              "              style=\"display:none;\">\n",
              "        \n",
              "  <svg xmlns=\"http://www.w3.org/2000/svg\" height=\"24px\"viewBox=\"0 0 24 24\"\n",
              "       width=\"24px\">\n",
              "    <path d=\"M0 0h24v24H0V0z\" fill=\"none\"/>\n",
              "    <path d=\"M18.56 5.44l.94 2.06.94-2.06 2.06-.94-2.06-.94-.94-2.06-.94 2.06-2.06.94zm-11 1L8.5 8.5l.94-2.06 2.06-.94-2.06-.94L8.5 2.5l-.94 2.06-2.06.94zm10 10l.94 2.06.94-2.06 2.06-.94-2.06-.94-.94-2.06-.94 2.06-2.06.94z\"/><path d=\"M17.41 7.96l-1.37-1.37c-.4-.4-.92-.59-1.43-.59-.52 0-1.04.2-1.43.59L10.3 9.45l-7.72 7.72c-.78.78-.78 2.05 0 2.83L4 21.41c.39.39.9.59 1.41.59.51 0 1.02-.2 1.41-.59l7.78-7.78 2.81-2.81c.8-.78.8-2.07 0-2.86zM5.41 20L4 18.59l7.72-7.72 1.47 1.35L5.41 20z\"/>\n",
              "  </svg>\n",
              "      </button>\n",
              "      \n",
              "  <style>\n",
              "    .colab-df-container {\n",
              "      display:flex;\n",
              "      flex-wrap:wrap;\n",
              "      gap: 12px;\n",
              "    }\n",
              "\n",
              "    .colab-df-convert {\n",
              "      background-color: #E8F0FE;\n",
              "      border: none;\n",
              "      border-radius: 50%;\n",
              "      cursor: pointer;\n",
              "      display: none;\n",
              "      fill: #1967D2;\n",
              "      height: 32px;\n",
              "      padding: 0 0 0 0;\n",
              "      width: 32px;\n",
              "    }\n",
              "\n",
              "    .colab-df-convert:hover {\n",
              "      background-color: #E2EBFA;\n",
              "      box-shadow: 0px 1px 2px rgba(60, 64, 67, 0.3), 0px 1px 3px 1px rgba(60, 64, 67, 0.15);\n",
              "      fill: #174EA6;\n",
              "    }\n",
              "\n",
              "    [theme=dark] .colab-df-convert {\n",
              "      background-color: #3B4455;\n",
              "      fill: #D2E3FC;\n",
              "    }\n",
              "\n",
              "    [theme=dark] .colab-df-convert:hover {\n",
              "      background-color: #434B5C;\n",
              "      box-shadow: 0px 1px 3px 1px rgba(0, 0, 0, 0.15);\n",
              "      filter: drop-shadow(0px 1px 2px rgba(0, 0, 0, 0.3));\n",
              "      fill: #FFFFFF;\n",
              "    }\n",
              "  </style>\n",
              "\n",
              "      <script>\n",
              "        const buttonEl =\n",
              "          document.querySelector('#df-1d06282c-a575-4f8d-8947-19c79f5e060a button.colab-df-convert');\n",
              "        buttonEl.style.display =\n",
              "          google.colab.kernel.accessAllowed ? 'block' : 'none';\n",
              "\n",
              "        async function convertToInteractive(key) {\n",
              "          const element = document.querySelector('#df-1d06282c-a575-4f8d-8947-19c79f5e060a');\n",
              "          const dataTable =\n",
              "            await google.colab.kernel.invokeFunction('convertToInteractive',\n",
              "                                                     [key], {});\n",
              "          if (!dataTable) return;\n",
              "\n",
              "          const docLinkHtml = 'Like what you see? Visit the ' +\n",
              "            '<a target=\"_blank\" href=https://colab.research.google.com/notebooks/data_table.ipynb>data table notebook</a>'\n",
              "            + ' to learn more about interactive tables.';\n",
              "          element.innerHTML = '';\n",
              "          dataTable['output_type'] = 'display_data';\n",
              "          await google.colab.output.renderOutput(dataTable, element);\n",
              "          const docLink = document.createElement('div');\n",
              "          docLink.innerHTML = docLinkHtml;\n",
              "          element.appendChild(docLink);\n",
              "        }\n",
              "      </script>\n",
              "    </div>\n",
              "  </div>\n",
              "  "
            ],
            "text/plain": [
              "             word POS    NER boundary\n",
              "0             จีน  NN  B_LOC    B_CLS\n",
              "1               -  PU      O    I_CLS\n",
              "2         อินเดีย  NN  B_LOC    I_CLS\n",
              "3          เสี่ยง  VV      O    I_CLS\n",
              "4         สูญเสีย  VV      O    I_CLS\n",
              "...           ...  ..    ...      ...\n",
              "207273       ครหา  VV      O    I_CLS\n",
              "207274  เกี่ยวกับ  VV      O    I_CLS\n",
              "207275       ความ  FX      O    I_CLS\n",
              "207276        ไม่  NG      O    I_CLS\n",
              "207277    ถูกต้อง  VV      O    E_CLS\n",
              "\n",
              "[207278 rows x 4 columns]"
            ]
          },
          "execution_count": 45,
          "metadata": {},
          "output_type": "execute_result"
        }
      ],
      "source": [
        "All_data2"
      ]
    },
    {
      "cell_type": "code",
      "execution_count": null,
      "metadata": {
        "colab": {
          "base_uri": "https://localhost:8080/"
        },
        "id": "FVP6E2kTjp5i",
        "outputId": "0abcae9f-a7f2-48c5-ca7a-b36169b199da"
      },
      "outputs": [
        {
          "name": "stderr",
          "output_type": "stream",
          "text": [
            "/usr/local/lib/python3.7/dist-packages/ipykernel_launcher.py:32: DeprecationWarning: Call to deprecated `wv` (Attribute will be removed in 4.0.0, use self instead).\n"
          ]
        }
      ],
      "source": [
        "X_test_indices = sentences_to_indices(All_data2['word'], word2vec, 12)"
      ]
    },
    {
      "cell_type": "code",
      "execution_count": null,
      "metadata": {
        "id": "9F3JIVtqjym4"
      },
      "outputs": [],
      "source": [
        "relabel2=[]\n",
        "for i in All_data2['POS']:\n",
        "  relabel2.append(converlabel(Pos_unique,i))"
      ]
    },
    {
      "cell_type": "code",
      "execution_count": null,
      "metadata": {
        "id": "dTaRtxr9j6Ux"
      },
      "outputs": [],
      "source": [
        "Y_test_oh = convert_to_one_hot(relabel2, 16)"
      ]
    },
    {
      "cell_type": "code",
      "execution_count": null,
      "metadata": {
        "id": "M3Oc3pLprLBY"
      },
      "outputs": [],
      "source": [
        "solution = model.predict(X_test_indices)"
      ]
    },
    {
      "cell_type": "code",
      "execution_count": null,
      "metadata": {
        "id": "ItJQR152rxSg"
      },
      "outputs": [],
      "source": [
        "def inverselabel(Pos_unique,x):\n",
        "  return Pos_unique[x]"
      ]
    },
    {
      "cell_type": "code",
      "execution_count": null,
      "metadata": {
        "id": "cKvIlMsGkA-h"
      },
      "outputs": [],
      "source": [
        "result=[]\n",
        "for i in solution:\n",
        "  result.append(inverselabel(Pos_unique,np.argmax(i)))"
      ]
    },
    {
      "cell_type": "code",
      "execution_count": null,
      "metadata": {
        "id": "aTgYHeASqjSM"
      },
      "outputs": [],
      "source": [
        "All_data2[\"result\"]=result"
      ]
    },
    {
      "cell_type": "code",
      "execution_count": null,
      "metadata": {
        "colab": {
          "base_uri": "https://localhost:8080/",
          "height": 423
        },
        "id": "2H-5S9K6tsu5",
        "outputId": "66603217-7bc2-4aa9-c4ad-9e64a9cf059b"
      },
      "outputs": [
        {
          "data": {
            "text/html": [
              "\n",
              "  <div id=\"df-d8d69011-bc48-41f3-a103-b67f761a1fe3\">\n",
              "    <div class=\"colab-df-container\">\n",
              "      <div>\n",
              "<style scoped>\n",
              "    .dataframe tbody tr th:only-of-type {\n",
              "        vertical-align: middle;\n",
              "    }\n",
              "\n",
              "    .dataframe tbody tr th {\n",
              "        vertical-align: top;\n",
              "    }\n",
              "\n",
              "    .dataframe thead th {\n",
              "        text-align: right;\n",
              "    }\n",
              "</style>\n",
              "<table border=\"1\" class=\"dataframe\">\n",
              "  <thead>\n",
              "    <tr style=\"text-align: right;\">\n",
              "      <th></th>\n",
              "      <th>word</th>\n",
              "      <th>POS</th>\n",
              "      <th>NER</th>\n",
              "      <th>boundary</th>\n",
              "      <th>result</th>\n",
              "    </tr>\n",
              "  </thead>\n",
              "  <tbody>\n",
              "    <tr>\n",
              "      <th>0</th>\n",
              "      <td>จีน</td>\n",
              "      <td>NN</td>\n",
              "      <td>B_LOC</td>\n",
              "      <td>B_CLS</td>\n",
              "      <td>NN</td>\n",
              "    </tr>\n",
              "    <tr>\n",
              "      <th>1</th>\n",
              "      <td>-</td>\n",
              "      <td>PU</td>\n",
              "      <td>O</td>\n",
              "      <td>I_CLS</td>\n",
              "      <td>PU</td>\n",
              "    </tr>\n",
              "    <tr>\n",
              "      <th>2</th>\n",
              "      <td>อินเดีย</td>\n",
              "      <td>NN</td>\n",
              "      <td>B_LOC</td>\n",
              "      <td>I_CLS</td>\n",
              "      <td>NN</td>\n",
              "    </tr>\n",
              "    <tr>\n",
              "      <th>3</th>\n",
              "      <td>เสี่ยง</td>\n",
              "      <td>VV</td>\n",
              "      <td>O</td>\n",
              "      <td>I_CLS</td>\n",
              "      <td>VV</td>\n",
              "    </tr>\n",
              "    <tr>\n",
              "      <th>4</th>\n",
              "      <td>สูญเสีย</td>\n",
              "      <td>VV</td>\n",
              "      <td>O</td>\n",
              "      <td>I_CLS</td>\n",
              "      <td>VV</td>\n",
              "    </tr>\n",
              "    <tr>\n",
              "      <th>...</th>\n",
              "      <td>...</td>\n",
              "      <td>...</td>\n",
              "      <td>...</td>\n",
              "      <td>...</td>\n",
              "      <td>...</td>\n",
              "    </tr>\n",
              "    <tr>\n",
              "      <th>207273</th>\n",
              "      <td>ครหา</td>\n",
              "      <td>VV</td>\n",
              "      <td>O</td>\n",
              "      <td>I_CLS</td>\n",
              "      <td>VV</td>\n",
              "    </tr>\n",
              "    <tr>\n",
              "      <th>207274</th>\n",
              "      <td>เกี่ยวกับ</td>\n",
              "      <td>VV</td>\n",
              "      <td>O</td>\n",
              "      <td>I_CLS</td>\n",
              "      <td>VV</td>\n",
              "    </tr>\n",
              "    <tr>\n",
              "      <th>207275</th>\n",
              "      <td>ความ</td>\n",
              "      <td>FX</td>\n",
              "      <td>O</td>\n",
              "      <td>I_CLS</td>\n",
              "      <td>FX</td>\n",
              "    </tr>\n",
              "    <tr>\n",
              "      <th>207276</th>\n",
              "      <td>ไม่</td>\n",
              "      <td>NG</td>\n",
              "      <td>O</td>\n",
              "      <td>I_CLS</td>\n",
              "      <td>NG</td>\n",
              "    </tr>\n",
              "    <tr>\n",
              "      <th>207277</th>\n",
              "      <td>ถูกต้อง</td>\n",
              "      <td>VV</td>\n",
              "      <td>O</td>\n",
              "      <td>E_CLS</td>\n",
              "      <td>VV</td>\n",
              "    </tr>\n",
              "  </tbody>\n",
              "</table>\n",
              "<p>207278 rows × 5 columns</p>\n",
              "</div>\n",
              "      <button class=\"colab-df-convert\" onclick=\"convertToInteractive('df-d8d69011-bc48-41f3-a103-b67f761a1fe3')\"\n",
              "              title=\"Convert this dataframe to an interactive table.\"\n",
              "              style=\"display:none;\">\n",
              "        \n",
              "  <svg xmlns=\"http://www.w3.org/2000/svg\" height=\"24px\"viewBox=\"0 0 24 24\"\n",
              "       width=\"24px\">\n",
              "    <path d=\"M0 0h24v24H0V0z\" fill=\"none\"/>\n",
              "    <path d=\"M18.56 5.44l.94 2.06.94-2.06 2.06-.94-2.06-.94-.94-2.06-.94 2.06-2.06.94zm-11 1L8.5 8.5l.94-2.06 2.06-.94-2.06-.94L8.5 2.5l-.94 2.06-2.06.94zm10 10l.94 2.06.94-2.06 2.06-.94-2.06-.94-.94-2.06-.94 2.06-2.06.94z\"/><path d=\"M17.41 7.96l-1.37-1.37c-.4-.4-.92-.59-1.43-.59-.52 0-1.04.2-1.43.59L10.3 9.45l-7.72 7.72c-.78.78-.78 2.05 0 2.83L4 21.41c.39.39.9.59 1.41.59.51 0 1.02-.2 1.41-.59l7.78-7.78 2.81-2.81c.8-.78.8-2.07 0-2.86zM5.41 20L4 18.59l7.72-7.72 1.47 1.35L5.41 20z\"/>\n",
              "  </svg>\n",
              "      </button>\n",
              "      \n",
              "  <style>\n",
              "    .colab-df-container {\n",
              "      display:flex;\n",
              "      flex-wrap:wrap;\n",
              "      gap: 12px;\n",
              "    }\n",
              "\n",
              "    .colab-df-convert {\n",
              "      background-color: #E8F0FE;\n",
              "      border: none;\n",
              "      border-radius: 50%;\n",
              "      cursor: pointer;\n",
              "      display: none;\n",
              "      fill: #1967D2;\n",
              "      height: 32px;\n",
              "      padding: 0 0 0 0;\n",
              "      width: 32px;\n",
              "    }\n",
              "\n",
              "    .colab-df-convert:hover {\n",
              "      background-color: #E2EBFA;\n",
              "      box-shadow: 0px 1px 2px rgba(60, 64, 67, 0.3), 0px 1px 3px 1px rgba(60, 64, 67, 0.15);\n",
              "      fill: #174EA6;\n",
              "    }\n",
              "\n",
              "    [theme=dark] .colab-df-convert {\n",
              "      background-color: #3B4455;\n",
              "      fill: #D2E3FC;\n",
              "    }\n",
              "\n",
              "    [theme=dark] .colab-df-convert:hover {\n",
              "      background-color: #434B5C;\n",
              "      box-shadow: 0px 1px 3px 1px rgba(0, 0, 0, 0.15);\n",
              "      filter: drop-shadow(0px 1px 2px rgba(0, 0, 0, 0.3));\n",
              "      fill: #FFFFFF;\n",
              "    }\n",
              "  </style>\n",
              "\n",
              "      <script>\n",
              "        const buttonEl =\n",
              "          document.querySelector('#df-d8d69011-bc48-41f3-a103-b67f761a1fe3 button.colab-df-convert');\n",
              "        buttonEl.style.display =\n",
              "          google.colab.kernel.accessAllowed ? 'block' : 'none';\n",
              "\n",
              "        async function convertToInteractive(key) {\n",
              "          const element = document.querySelector('#df-d8d69011-bc48-41f3-a103-b67f761a1fe3');\n",
              "          const dataTable =\n",
              "            await google.colab.kernel.invokeFunction('convertToInteractive',\n",
              "                                                     [key], {});\n",
              "          if (!dataTable) return;\n",
              "\n",
              "          const docLinkHtml = 'Like what you see? Visit the ' +\n",
              "            '<a target=\"_blank\" href=https://colab.research.google.com/notebooks/data_table.ipynb>data table notebook</a>'\n",
              "            + ' to learn more about interactive tables.';\n",
              "          element.innerHTML = '';\n",
              "          dataTable['output_type'] = 'display_data';\n",
              "          await google.colab.output.renderOutput(dataTable, element);\n",
              "          const docLink = document.createElement('div');\n",
              "          docLink.innerHTML = docLinkHtml;\n",
              "          element.appendChild(docLink);\n",
              "        }\n",
              "      </script>\n",
              "    </div>\n",
              "  </div>\n",
              "  "
            ],
            "text/plain": [
              "             word POS    NER boundary result\n",
              "0             จีน  NN  B_LOC    B_CLS     NN\n",
              "1               -  PU      O    I_CLS     PU\n",
              "2         อินเดีย  NN  B_LOC    I_CLS     NN\n",
              "3          เสี่ยง  VV      O    I_CLS     VV\n",
              "4         สูญเสีย  VV      O    I_CLS     VV\n",
              "...           ...  ..    ...      ...    ...\n",
              "207273       ครหา  VV      O    I_CLS     VV\n",
              "207274  เกี่ยวกับ  VV      O    I_CLS     VV\n",
              "207275       ความ  FX      O    I_CLS     FX\n",
              "207276        ไม่  NG      O    I_CLS     NG\n",
              "207277    ถูกต้อง  VV      O    E_CLS     VV\n",
              "\n",
              "[207278 rows x 5 columns]"
            ]
          },
          "execution_count": 53,
          "metadata": {},
          "output_type": "execute_result"
        }
      ],
      "source": [
        "All_data2"
      ]
    },
    {
      "cell_type": "code",
      "source": [
        "gc.collect()"
      ],
      "metadata": {
        "colab": {
          "base_uri": "https://localhost:8080/"
        },
        "id": "sFb5TmtNtnlI",
        "outputId": "8ca1df58-c81b-4b41-8226-43b86f8f58c7"
      },
      "execution_count": null,
      "outputs": [
        {
          "output_type": "execute_result",
          "data": {
            "text/plain": [
              "2012"
            ]
          },
          "metadata": {},
          "execution_count": 56
        }
      ]
    },
    {
      "cell_type": "code",
      "execution_count": null,
      "metadata": {
        "id": "mWjPuu_bLhgZ"
      },
      "outputs": [],
      "source": [
        "path3 = \"/content/drive/MyDrive/NLP_POS/\""
      ]
    },
    {
      "cell_type": "code",
      "execution_count": null,
      "metadata": {
        "colab": {
          "base_uri": "https://localhost:8080/"
        },
        "id": "tbUGCvazLqGy",
        "outputId": "f99f7026-523f-465a-90b0-0b713de1b206"
      },
      "outputs": [
        {
          "output_type": "stream",
          "name": "stdout",
          "text": [
            "Archive:  /content/drive/MyDrive/NLP_POS/pos_test.txt.zip\n",
            "replace pos_test.txt? [y]es, [n]o, [A]ll, [N]one, [r]ename: A\n",
            "  inflating: pos_test.txt            \n"
          ]
        }
      ],
      "source": [
        "!unzip \"/content/drive/MyDrive/NLP_POS/pos_test.txt.zip\""
      ]
    },
    {
      "cell_type": "code",
      "execution_count": null,
      "metadata": {
        "id": "mvuk8GnEOsrx"
      },
      "outputs": [],
      "source": [
        "file1 = open('/content/super-ai-engineer-2021-nlp-pos-tagging/pos_test.txt', 'r')\n",
        "Lines = file1.readlines()"
      ]
    },
    {
      "cell_type": "code",
      "execution_count": null,
      "metadata": {
        "id": "k2y-YYwROxVx"
      },
      "outputs": [],
      "source": [
        "data_t=[]\n",
        "for line in Lines:\n",
        "  data_t.append(line)"
      ]
    },
    {
      "cell_type": "code",
      "execution_count": null,
      "metadata": {
        "id": "3-ky_h6WO_hA"
      },
      "outputs": [],
      "source": [
        "dat=[]\n",
        "for i in data_t:\n",
        "  dat.append(i.rstrip(\"\\n\"))"
      ]
    },
    {
      "cell_type": "code",
      "source": [
        "import pandas as pd"
      ],
      "metadata": {
        "id": "F_avfTaMKy_h"
      },
      "execution_count": null,
      "outputs": []
    },
    {
      "cell_type": "code",
      "execution_count": null,
      "metadata": {
        "id": "DMQCF9C4PgFQ"
      },
      "outputs": [],
      "source": [
        "Data3=pd.DataFrame(dat)"
      ]
    },
    {
      "cell_type": "code",
      "execution_count": null,
      "metadata": {
        "id": "zm7aeI_1OJBZ"
      },
      "outputs": [],
      "source": [
        "All_data4 = pd.DataFrame(pd.read_csv(\"/content/super-ai-engineer-2021-nlp-pos-tagging/pos_sample_submission.csv\",sep='\\t',header=None,names=['word']))"
      ]
    },
    {
      "cell_type": "code",
      "execution_count": null,
      "metadata": {
        "colab": {
          "base_uri": "https://localhost:8080/",
          "height": 423
        },
        "id": "sGtJUNVsN2rq",
        "outputId": "a69eefc4-2af9-4c15-de6e-546f783db6d0"
      },
      "outputs": [
        {
          "output_type": "execute_result",
          "data": {
            "text/html": [
              "\n",
              "  <div id=\"df-6d7b14bb-46b2-4072-9314-8d3fd0a63220\">\n",
              "    <div class=\"colab-df-container\">\n",
              "      <div>\n",
              "<style scoped>\n",
              "    .dataframe tbody tr th:only-of-type {\n",
              "        vertical-align: middle;\n",
              "    }\n",
              "\n",
              "    .dataframe tbody tr th {\n",
              "        vertical-align: top;\n",
              "    }\n",
              "\n",
              "    .dataframe thead th {\n",
              "        text-align: right;\n",
              "    }\n",
              "</style>\n",
              "<table border=\"1\" class=\"dataframe\">\n",
              "  <thead>\n",
              "    <tr style=\"text-align: right;\">\n",
              "      <th></th>\n",
              "      <th>0</th>\n",
              "    </tr>\n",
              "  </thead>\n",
              "  <tbody>\n",
              "    <tr>\n",
              "      <th>0</th>\n",
              "      <td>อย่างไรก็ตาม</td>\n",
              "    </tr>\n",
              "    <tr>\n",
              "      <th>1</th>\n",
              "      <td>เครื่อง</td>\n",
              "    </tr>\n",
              "    <tr>\n",
              "      <th>2</th>\n",
              "      <td>บิน</td>\n",
              "    </tr>\n",
              "    <tr>\n",
              "      <th>3</th>\n",
              "      <td>แอร์บัส</td>\n",
              "    </tr>\n",
              "    <tr>\n",
              "      <th>4</th>\n",
              "      <td></td>\n",
              "    </tr>\n",
              "    <tr>\n",
              "      <th>...</th>\n",
              "      <td>...</td>\n",
              "    </tr>\n",
              "    <tr>\n",
              "      <th>103909</th>\n",
              "      <td>พร้อม</td>\n",
              "    </tr>\n",
              "    <tr>\n",
              "      <th>103910</th>\n",
              "      <td>รับ</td>\n",
              "    </tr>\n",
              "    <tr>\n",
              "      <th>103911</th>\n",
              "      <td>การ</td>\n",
              "    </tr>\n",
              "    <tr>\n",
              "      <th>103912</th>\n",
              "      <td>โจมตี</td>\n",
              "    </tr>\n",
              "    <tr>\n",
              "      <th>103913</th>\n",
              "      <td></td>\n",
              "    </tr>\n",
              "  </tbody>\n",
              "</table>\n",
              "<p>103914 rows × 1 columns</p>\n",
              "</div>\n",
              "      <button class=\"colab-df-convert\" onclick=\"convertToInteractive('df-6d7b14bb-46b2-4072-9314-8d3fd0a63220')\"\n",
              "              title=\"Convert this dataframe to an interactive table.\"\n",
              "              style=\"display:none;\">\n",
              "        \n",
              "  <svg xmlns=\"http://www.w3.org/2000/svg\" height=\"24px\"viewBox=\"0 0 24 24\"\n",
              "       width=\"24px\">\n",
              "    <path d=\"M0 0h24v24H0V0z\" fill=\"none\"/>\n",
              "    <path d=\"M18.56 5.44l.94 2.06.94-2.06 2.06-.94-2.06-.94-.94-2.06-.94 2.06-2.06.94zm-11 1L8.5 8.5l.94-2.06 2.06-.94-2.06-.94L8.5 2.5l-.94 2.06-2.06.94zm10 10l.94 2.06.94-2.06 2.06-.94-2.06-.94-.94-2.06-.94 2.06-2.06.94z\"/><path d=\"M17.41 7.96l-1.37-1.37c-.4-.4-.92-.59-1.43-.59-.52 0-1.04.2-1.43.59L10.3 9.45l-7.72 7.72c-.78.78-.78 2.05 0 2.83L4 21.41c.39.39.9.59 1.41.59.51 0 1.02-.2 1.41-.59l7.78-7.78 2.81-2.81c.8-.78.8-2.07 0-2.86zM5.41 20L4 18.59l7.72-7.72 1.47 1.35L5.41 20z\"/>\n",
              "  </svg>\n",
              "      </button>\n",
              "      \n",
              "  <style>\n",
              "    .colab-df-container {\n",
              "      display:flex;\n",
              "      flex-wrap:wrap;\n",
              "      gap: 12px;\n",
              "    }\n",
              "\n",
              "    .colab-df-convert {\n",
              "      background-color: #E8F0FE;\n",
              "      border: none;\n",
              "      border-radius: 50%;\n",
              "      cursor: pointer;\n",
              "      display: none;\n",
              "      fill: #1967D2;\n",
              "      height: 32px;\n",
              "      padding: 0 0 0 0;\n",
              "      width: 32px;\n",
              "    }\n",
              "\n",
              "    .colab-df-convert:hover {\n",
              "      background-color: #E2EBFA;\n",
              "      box-shadow: 0px 1px 2px rgba(60, 64, 67, 0.3), 0px 1px 3px 1px rgba(60, 64, 67, 0.15);\n",
              "      fill: #174EA6;\n",
              "    }\n",
              "\n",
              "    [theme=dark] .colab-df-convert {\n",
              "      background-color: #3B4455;\n",
              "      fill: #D2E3FC;\n",
              "    }\n",
              "\n",
              "    [theme=dark] .colab-df-convert:hover {\n",
              "      background-color: #434B5C;\n",
              "      box-shadow: 0px 1px 3px 1px rgba(0, 0, 0, 0.15);\n",
              "      filter: drop-shadow(0px 1px 2px rgba(0, 0, 0, 0.3));\n",
              "      fill: #FFFFFF;\n",
              "    }\n",
              "  </style>\n",
              "\n",
              "      <script>\n",
              "        const buttonEl =\n",
              "          document.querySelector('#df-6d7b14bb-46b2-4072-9314-8d3fd0a63220 button.colab-df-convert');\n",
              "        buttonEl.style.display =\n",
              "          google.colab.kernel.accessAllowed ? 'block' : 'none';\n",
              "\n",
              "        async function convertToInteractive(key) {\n",
              "          const element = document.querySelector('#df-6d7b14bb-46b2-4072-9314-8d3fd0a63220');\n",
              "          const dataTable =\n",
              "            await google.colab.kernel.invokeFunction('convertToInteractive',\n",
              "                                                     [key], {});\n",
              "          if (!dataTable) return;\n",
              "\n",
              "          const docLinkHtml = 'Like what you see? Visit the ' +\n",
              "            '<a target=\"_blank\" href=https://colab.research.google.com/notebooks/data_table.ipynb>data table notebook</a>'\n",
              "            + ' to learn more about interactive tables.';\n",
              "          element.innerHTML = '';\n",
              "          dataTable['output_type'] = 'display_data';\n",
              "          await google.colab.output.renderOutput(dataTable, element);\n",
              "          const docLink = document.createElement('div');\n",
              "          docLink.innerHTML = docLinkHtml;\n",
              "          element.appendChild(docLink);\n",
              "        }\n",
              "      </script>\n",
              "    </div>\n",
              "  </div>\n",
              "  "
            ],
            "text/plain": [
              "                   0\n",
              "0       อย่างไรก็ตาม\n",
              "1            เครื่อง\n",
              "2                บิน\n",
              "3            แอร์บัส\n",
              "4                   \n",
              "...              ...\n",
              "103909         พร้อม\n",
              "103910           รับ\n",
              "103911           การ\n",
              "103912         โจมตี\n",
              "103913              \n",
              "\n",
              "[103914 rows x 1 columns]"
            ]
          },
          "metadata": {},
          "execution_count": 12
        }
      ],
      "source": [
        "Data3"
      ]
    },
    {
      "cell_type": "code",
      "execution_count": null,
      "metadata": {
        "id": "3ZpgVHzTMHvF"
      },
      "outputs": [],
      "source": [
        "Data3 = Data3.replace('','_')"
      ]
    },
    {
      "cell_type": "code",
      "execution_count": null,
      "metadata": {
        "colab": {
          "base_uri": "https://localhost:8080/",
          "height": 423
        },
        "id": "sE1Ir1qxYgIW",
        "outputId": "2181d507-a063-4488-d807-76d73e3fb006"
      },
      "outputs": [
        {
          "output_type": "execute_result",
          "data": {
            "text/html": [
              "\n",
              "  <div id=\"df-47917aec-a16f-467c-a965-14b1ce9ec572\">\n",
              "    <div class=\"colab-df-container\">\n",
              "      <div>\n",
              "<style scoped>\n",
              "    .dataframe tbody tr th:only-of-type {\n",
              "        vertical-align: middle;\n",
              "    }\n",
              "\n",
              "    .dataframe tbody tr th {\n",
              "        vertical-align: top;\n",
              "    }\n",
              "\n",
              "    .dataframe thead th {\n",
              "        text-align: right;\n",
              "    }\n",
              "</style>\n",
              "<table border=\"1\" class=\"dataframe\">\n",
              "  <thead>\n",
              "    <tr style=\"text-align: right;\">\n",
              "      <th></th>\n",
              "      <th>0</th>\n",
              "    </tr>\n",
              "  </thead>\n",
              "  <tbody>\n",
              "    <tr>\n",
              "      <th>0</th>\n",
              "      <td>อย่างไรก็ตาม</td>\n",
              "    </tr>\n",
              "    <tr>\n",
              "      <th>1</th>\n",
              "      <td>เครื่อง</td>\n",
              "    </tr>\n",
              "    <tr>\n",
              "      <th>2</th>\n",
              "      <td>บิน</td>\n",
              "    </tr>\n",
              "    <tr>\n",
              "      <th>3</th>\n",
              "      <td>แอร์บัส</td>\n",
              "    </tr>\n",
              "    <tr>\n",
              "      <th>4</th>\n",
              "      <td>_</td>\n",
              "    </tr>\n",
              "    <tr>\n",
              "      <th>...</th>\n",
              "      <td>...</td>\n",
              "    </tr>\n",
              "    <tr>\n",
              "      <th>103909</th>\n",
              "      <td>พร้อม</td>\n",
              "    </tr>\n",
              "    <tr>\n",
              "      <th>103910</th>\n",
              "      <td>รับ</td>\n",
              "    </tr>\n",
              "    <tr>\n",
              "      <th>103911</th>\n",
              "      <td>การ</td>\n",
              "    </tr>\n",
              "    <tr>\n",
              "      <th>103912</th>\n",
              "      <td>โจมตี</td>\n",
              "    </tr>\n",
              "    <tr>\n",
              "      <th>103913</th>\n",
              "      <td>_</td>\n",
              "    </tr>\n",
              "  </tbody>\n",
              "</table>\n",
              "<p>103914 rows × 1 columns</p>\n",
              "</div>\n",
              "      <button class=\"colab-df-convert\" onclick=\"convertToInteractive('df-47917aec-a16f-467c-a965-14b1ce9ec572')\"\n",
              "              title=\"Convert this dataframe to an interactive table.\"\n",
              "              style=\"display:none;\">\n",
              "        \n",
              "  <svg xmlns=\"http://www.w3.org/2000/svg\" height=\"24px\"viewBox=\"0 0 24 24\"\n",
              "       width=\"24px\">\n",
              "    <path d=\"M0 0h24v24H0V0z\" fill=\"none\"/>\n",
              "    <path d=\"M18.56 5.44l.94 2.06.94-2.06 2.06-.94-2.06-.94-.94-2.06-.94 2.06-2.06.94zm-11 1L8.5 8.5l.94-2.06 2.06-.94-2.06-.94L8.5 2.5l-.94 2.06-2.06.94zm10 10l.94 2.06.94-2.06 2.06-.94-2.06-.94-.94-2.06-.94 2.06-2.06.94z\"/><path d=\"M17.41 7.96l-1.37-1.37c-.4-.4-.92-.59-1.43-.59-.52 0-1.04.2-1.43.59L10.3 9.45l-7.72 7.72c-.78.78-.78 2.05 0 2.83L4 21.41c.39.39.9.59 1.41.59.51 0 1.02-.2 1.41-.59l7.78-7.78 2.81-2.81c.8-.78.8-2.07 0-2.86zM5.41 20L4 18.59l7.72-7.72 1.47 1.35L5.41 20z\"/>\n",
              "  </svg>\n",
              "      </button>\n",
              "      \n",
              "  <style>\n",
              "    .colab-df-container {\n",
              "      display:flex;\n",
              "      flex-wrap:wrap;\n",
              "      gap: 12px;\n",
              "    }\n",
              "\n",
              "    .colab-df-convert {\n",
              "      background-color: #E8F0FE;\n",
              "      border: none;\n",
              "      border-radius: 50%;\n",
              "      cursor: pointer;\n",
              "      display: none;\n",
              "      fill: #1967D2;\n",
              "      height: 32px;\n",
              "      padding: 0 0 0 0;\n",
              "      width: 32px;\n",
              "    }\n",
              "\n",
              "    .colab-df-convert:hover {\n",
              "      background-color: #E2EBFA;\n",
              "      box-shadow: 0px 1px 2px rgba(60, 64, 67, 0.3), 0px 1px 3px 1px rgba(60, 64, 67, 0.15);\n",
              "      fill: #174EA6;\n",
              "    }\n",
              "\n",
              "    [theme=dark] .colab-df-convert {\n",
              "      background-color: #3B4455;\n",
              "      fill: #D2E3FC;\n",
              "    }\n",
              "\n",
              "    [theme=dark] .colab-df-convert:hover {\n",
              "      background-color: #434B5C;\n",
              "      box-shadow: 0px 1px 3px 1px rgba(0, 0, 0, 0.15);\n",
              "      filter: drop-shadow(0px 1px 2px rgba(0, 0, 0, 0.3));\n",
              "      fill: #FFFFFF;\n",
              "    }\n",
              "  </style>\n",
              "\n",
              "      <script>\n",
              "        const buttonEl =\n",
              "          document.querySelector('#df-47917aec-a16f-467c-a965-14b1ce9ec572 button.colab-df-convert');\n",
              "        buttonEl.style.display =\n",
              "          google.colab.kernel.accessAllowed ? 'block' : 'none';\n",
              "\n",
              "        async function convertToInteractive(key) {\n",
              "          const element = document.querySelector('#df-47917aec-a16f-467c-a965-14b1ce9ec572');\n",
              "          const dataTable =\n",
              "            await google.colab.kernel.invokeFunction('convertToInteractive',\n",
              "                                                     [key], {});\n",
              "          if (!dataTable) return;\n",
              "\n",
              "          const docLinkHtml = 'Like what you see? Visit the ' +\n",
              "            '<a target=\"_blank\" href=https://colab.research.google.com/notebooks/data_table.ipynb>data table notebook</a>'\n",
              "            + ' to learn more about interactive tables.';\n",
              "          element.innerHTML = '';\n",
              "          dataTable['output_type'] = 'display_data';\n",
              "          await google.colab.output.renderOutput(dataTable, element);\n",
              "          const docLink = document.createElement('div');\n",
              "          docLink.innerHTML = docLinkHtml;\n",
              "          element.appendChild(docLink);\n",
              "        }\n",
              "      </script>\n",
              "    </div>\n",
              "  </div>\n",
              "  "
            ],
            "text/plain": [
              "                   0\n",
              "0       อย่างไรก็ตาม\n",
              "1            เครื่อง\n",
              "2                บิน\n",
              "3            แอร์บัส\n",
              "4                  _\n",
              "...              ...\n",
              "103909         พร้อม\n",
              "103910           รับ\n",
              "103911           การ\n",
              "103912         โจมตี\n",
              "103913             _\n",
              "\n",
              "[103914 rows x 1 columns]"
            ]
          },
          "metadata": {},
          "execution_count": 65
        }
      ],
      "source": [
        "Data3"
      ]
    },
    {
      "cell_type": "code",
      "execution_count": null,
      "metadata": {
        "id": "0QM32jPEBo7_"
      },
      "outputs": [],
      "source": [
        "m=len(Data3)//256"
      ]
    },
    {
      "cell_type": "code",
      "execution_count": null,
      "metadata": {
        "colab": {
          "base_uri": "https://localhost:8080/"
        },
        "id": "2f133UmeK9yV",
        "outputId": "61654ee1-0a30-48ae-fdd9-1363cfcb33c3"
      },
      "outputs": [
        {
          "data": {
            "text/plain": [
              "405"
            ]
          },
          "execution_count": 186,
          "metadata": {},
          "output_type": "execute_result"
        }
      ],
      "source": [
        "m"
      ]
    },
    {
      "cell_type": "code",
      "execution_count": null,
      "metadata": {
        "colab": {
          "base_uri": "https://localhost:8080/"
        },
        "id": "NERh4-hRBakM",
        "outputId": "e65a9007-db3a-4e13-d347-bfdc7b04403e"
      },
      "outputs": [
        {
          "output_type": "stream",
          "name": "stderr",
          "text": [
            "100%|██████████| 406/406 [00:42<00:00,  9.50it/s]\n"
          ]
        }
      ],
      "source": [
        "emb_list3=[]\n",
        "for i in tqdm(range(m+1)):\n",
        "  if i==m:\n",
        "    embeddings = model_emb.encode(list(Data3.iloc[256*i:len(Data3),0]))\n",
        "  else:\n",
        "    embeddings = model_emb.encode(list(Data3.iloc[256*i:(256*(i+1)),0]))\n",
        "  emb_list3=emb_list3+list(embeddings)"
      ]
    },
    {
      "cell_type": "code",
      "execution_count": null,
      "metadata": {
        "colab": {
          "base_uri": "https://localhost:8080/"
        },
        "id": "qlfL_fGnQN65",
        "outputId": "d0577991-414c-4eff-a26c-9d55a617db59"
      },
      "outputs": [
        {
          "output_type": "execute_result",
          "data": {
            "text/plain": [
              "647"
            ]
          },
          "metadata": {},
          "execution_count": 71
        }
      ],
      "source": [
        "#del Data3\n",
        "gc.collect()"
      ]
    },
    {
      "cell_type": "code",
      "execution_count": null,
      "metadata": {
        "colab": {
          "base_uri": "https://localhost:8080/"
        },
        "id": "kKDG05ZGKeXE",
        "outputId": "b5ceea71-50a2-4efb-8724-ffd48dc5e7cf"
      },
      "outputs": [
        {
          "output_type": "execute_result",
          "data": {
            "text/plain": [
              "656"
            ]
          },
          "metadata": {},
          "execution_count": 119
        }
      ],
      "source": [
        "len(emb_list3)"
      ]
    },
    {
      "cell_type": "code",
      "execution_count": null,
      "metadata": {
        "colab": {
          "base_uri": "https://localhost:8080/"
        },
        "id": "ss2wxwFoBooY",
        "outputId": "055eea8e-8164-4b9f-a411-12f56b45e394"
      },
      "outputs": [
        {
          "output_type": "stream",
          "name": "stderr",
          "text": [
            "100%|██████████| 5773/5773 [00:00<00:00, 456122.46it/s]\n"
          ]
        }
      ],
      "source": [
        "new_emb_list3 = []\n",
        "for i in tqdm(range(0,len(emb_list3),18)):\n",
        "  if i>len(emb_list3)-18:\n",
        "    temp = emb_list3[i:len(emb_list3)]\n",
        "    temp0 = [0]*768\n",
        "    for j in range(18-(len(emb_list3)-i)):\n",
        "      temp.append(temp0)\n",
        "    new_emb_list3.append(temp)\n",
        "  else:\n",
        "    new_emb_list3.append(emb_list3[i:i+18])"
      ]
    },
    {
      "cell_type": "code",
      "execution_count": null,
      "metadata": {
        "id": "3Tf_FS-uMfYi"
      },
      "outputs": [],
      "source": [
        "emb_list3 = np.asarray(new_emb_list3,dtype='float32')"
      ]
    },
    {
      "cell_type": "code",
      "execution_count": null,
      "metadata": {
        "colab": {
          "base_uri": "https://localhost:8080/"
        },
        "id": "mGHSioCXFUrc",
        "outputId": "3cfd7be8-8e88-418b-e893-4225c50ee253"
      },
      "outputs": [
        {
          "output_type": "execute_result",
          "data": {
            "text/plain": [
              "(656, 16, 768)"
            ]
          },
          "metadata": {},
          "execution_count": 115
        }
      ],
      "source": [
        "emb_list3.shape"
      ]
    },
    {
      "cell_type": "code",
      "execution_count": null,
      "metadata": {
        "id": "h5lJRaIbMLsw"
      },
      "outputs": [],
      "source": [
        "solution_t = model.predict(emb_list3)"
      ]
    },
    {
      "cell_type": "code",
      "execution_count": null,
      "metadata": {
        "colab": {
          "base_uri": "https://localhost:8080/"
        },
        "id": "ix8Qv4KFE_hn",
        "outputId": "ce1886ca-1cf8-4051-e82d-2382ec29ce43"
      },
      "outputs": [
        {
          "output_type": "execute_result",
          "data": {
            "text/plain": [
              "array([7, 0, 1, 0, 2, 0, 0, 8, 1, 3, 0, 3, 0, 0, 3, 0], dtype=int32)"
            ]
          },
          "metadata": {},
          "execution_count": 102
        }
      ],
      "source": [
        "solution_t[0][0]"
      ]
    },
    {
      "cell_type": "code",
      "execution_count": null,
      "metadata": {
        "id": "61wX8QxZF9gw"
      },
      "outputs": [],
      "source": [
        "solution_arr = [item for sublist in solution_t[0] for item in sublist]"
      ]
    },
    {
      "cell_type": "code",
      "execution_count": null,
      "metadata": {
        "colab": {
          "base_uri": "https://localhost:8080/"
        },
        "id": "nlOLhIfbG1Cj",
        "outputId": "f4512c29-a985-46e6-f467-93995c8de674"
      },
      "outputs": [
        {
          "output_type": "execute_result",
          "data": {
            "text/plain": [
              "103920"
            ]
          },
          "metadata": {},
          "execution_count": 73
        }
      ],
      "source": [
        "len(solution_arr)"
      ]
    },
    {
      "cell_type": "code",
      "execution_count": null,
      "metadata": {
        "id": "wH9INHIlMsoQ"
      },
      "outputs": [],
      "source": [
        "result_t=[]\n",
        "for i in solution_arr:\n",
        "  result_t.append(inverselabel(Pos_unique,i))"
      ]
    },
    {
      "cell_type": "code",
      "execution_count": null,
      "metadata": {
        "id": "4LjSw0PjM2Hh"
      },
      "outputs": [],
      "source": [
        "result_t=result_t[0:103914]"
      ]
    },
    {
      "cell_type": "code",
      "execution_count": null,
      "metadata": {
        "id": "V1EBgsHDM3a3"
      },
      "outputs": [],
      "source": [
        "Data3[\"result\"]=result_t"
      ]
    },
    {
      "cell_type": "code",
      "execution_count": null,
      "metadata": {
        "colab": {
          "base_uri": "https://localhost:8080/",
          "height": 423
        },
        "id": "Y_r8b2tYRDgg",
        "outputId": "944a8b36-95b5-4c4e-feee-f5641b10bc08"
      },
      "outputs": [
        {
          "output_type": "execute_result",
          "data": {
            "text/html": [
              "\n",
              "  <div id=\"df-2ecdfc99-2307-4157-b1ad-537220fb365f\">\n",
              "    <div class=\"colab-df-container\">\n",
              "      <div>\n",
              "<style scoped>\n",
              "    .dataframe tbody tr th:only-of-type {\n",
              "        vertical-align: middle;\n",
              "    }\n",
              "\n",
              "    .dataframe tbody tr th {\n",
              "        vertical-align: top;\n",
              "    }\n",
              "\n",
              "    .dataframe thead th {\n",
              "        text-align: right;\n",
              "    }\n",
              "</style>\n",
              "<table border=\"1\" class=\"dataframe\">\n",
              "  <thead>\n",
              "    <tr style=\"text-align: right;\">\n",
              "      <th></th>\n",
              "      <th>0</th>\n",
              "      <th>result</th>\n",
              "    </tr>\n",
              "  </thead>\n",
              "  <tbody>\n",
              "    <tr>\n",
              "      <th>0</th>\n",
              "      <td>อย่างไรก็ตาม</td>\n",
              "      <td>CC</td>\n",
              "    </tr>\n",
              "    <tr>\n",
              "      <th>1</th>\n",
              "      <td>เครื่อง</td>\n",
              "      <td>NN</td>\n",
              "    </tr>\n",
              "    <tr>\n",
              "      <th>2</th>\n",
              "      <td>บิน</td>\n",
              "      <td>VV</td>\n",
              "    </tr>\n",
              "    <tr>\n",
              "      <th>3</th>\n",
              "      <td>แอร์บัส</td>\n",
              "      <td>NN</td>\n",
              "    </tr>\n",
              "    <tr>\n",
              "      <th>4</th>\n",
              "      <td>_</td>\n",
              "      <td>PU</td>\n",
              "    </tr>\n",
              "    <tr>\n",
              "      <th>...</th>\n",
              "      <td>...</td>\n",
              "      <td>...</td>\n",
              "    </tr>\n",
              "    <tr>\n",
              "      <th>103909</th>\n",
              "      <td>พร้อม</td>\n",
              "      <td>VV</td>\n",
              "    </tr>\n",
              "    <tr>\n",
              "      <th>103910</th>\n",
              "      <td>รับ</td>\n",
              "      <td>VV</td>\n",
              "    </tr>\n",
              "    <tr>\n",
              "      <th>103911</th>\n",
              "      <td>การ</td>\n",
              "      <td>FX</td>\n",
              "    </tr>\n",
              "    <tr>\n",
              "      <th>103912</th>\n",
              "      <td>โจมตี</td>\n",
              "      <td>VV</td>\n",
              "    </tr>\n",
              "    <tr>\n",
              "      <th>103913</th>\n",
              "      <td>_</td>\n",
              "      <td>PU</td>\n",
              "    </tr>\n",
              "  </tbody>\n",
              "</table>\n",
              "<p>103914 rows × 2 columns</p>\n",
              "</div>\n",
              "      <button class=\"colab-df-convert\" onclick=\"convertToInteractive('df-2ecdfc99-2307-4157-b1ad-537220fb365f')\"\n",
              "              title=\"Convert this dataframe to an interactive table.\"\n",
              "              style=\"display:none;\">\n",
              "        \n",
              "  <svg xmlns=\"http://www.w3.org/2000/svg\" height=\"24px\"viewBox=\"0 0 24 24\"\n",
              "       width=\"24px\">\n",
              "    <path d=\"M0 0h24v24H0V0z\" fill=\"none\"/>\n",
              "    <path d=\"M18.56 5.44l.94 2.06.94-2.06 2.06-.94-2.06-.94-.94-2.06-.94 2.06-2.06.94zm-11 1L8.5 8.5l.94-2.06 2.06-.94-2.06-.94L8.5 2.5l-.94 2.06-2.06.94zm10 10l.94 2.06.94-2.06 2.06-.94-2.06-.94-.94-2.06-.94 2.06-2.06.94z\"/><path d=\"M17.41 7.96l-1.37-1.37c-.4-.4-.92-.59-1.43-.59-.52 0-1.04.2-1.43.59L10.3 9.45l-7.72 7.72c-.78.78-.78 2.05 0 2.83L4 21.41c.39.39.9.59 1.41.59.51 0 1.02-.2 1.41-.59l7.78-7.78 2.81-2.81c.8-.78.8-2.07 0-2.86zM5.41 20L4 18.59l7.72-7.72 1.47 1.35L5.41 20z\"/>\n",
              "  </svg>\n",
              "      </button>\n",
              "      \n",
              "  <style>\n",
              "    .colab-df-container {\n",
              "      display:flex;\n",
              "      flex-wrap:wrap;\n",
              "      gap: 12px;\n",
              "    }\n",
              "\n",
              "    .colab-df-convert {\n",
              "      background-color: #E8F0FE;\n",
              "      border: none;\n",
              "      border-radius: 50%;\n",
              "      cursor: pointer;\n",
              "      display: none;\n",
              "      fill: #1967D2;\n",
              "      height: 32px;\n",
              "      padding: 0 0 0 0;\n",
              "      width: 32px;\n",
              "    }\n",
              "\n",
              "    .colab-df-convert:hover {\n",
              "      background-color: #E2EBFA;\n",
              "      box-shadow: 0px 1px 2px rgba(60, 64, 67, 0.3), 0px 1px 3px 1px rgba(60, 64, 67, 0.15);\n",
              "      fill: #174EA6;\n",
              "    }\n",
              "\n",
              "    [theme=dark] .colab-df-convert {\n",
              "      background-color: #3B4455;\n",
              "      fill: #D2E3FC;\n",
              "    }\n",
              "\n",
              "    [theme=dark] .colab-df-convert:hover {\n",
              "      background-color: #434B5C;\n",
              "      box-shadow: 0px 1px 3px 1px rgba(0, 0, 0, 0.15);\n",
              "      filter: drop-shadow(0px 1px 2px rgba(0, 0, 0, 0.3));\n",
              "      fill: #FFFFFF;\n",
              "    }\n",
              "  </style>\n",
              "\n",
              "      <script>\n",
              "        const buttonEl =\n",
              "          document.querySelector('#df-2ecdfc99-2307-4157-b1ad-537220fb365f button.colab-df-convert');\n",
              "        buttonEl.style.display =\n",
              "          google.colab.kernel.accessAllowed ? 'block' : 'none';\n",
              "\n",
              "        async function convertToInteractive(key) {\n",
              "          const element = document.querySelector('#df-2ecdfc99-2307-4157-b1ad-537220fb365f');\n",
              "          const dataTable =\n",
              "            await google.colab.kernel.invokeFunction('convertToInteractive',\n",
              "                                                     [key], {});\n",
              "          if (!dataTable) return;\n",
              "\n",
              "          const docLinkHtml = 'Like what you see? Visit the ' +\n",
              "            '<a target=\"_blank\" href=https://colab.research.google.com/notebooks/data_table.ipynb>data table notebook</a>'\n",
              "            + ' to learn more about interactive tables.';\n",
              "          element.innerHTML = '';\n",
              "          dataTable['output_type'] = 'display_data';\n",
              "          await google.colab.output.renderOutput(dataTable, element);\n",
              "          const docLink = document.createElement('div');\n",
              "          docLink.innerHTML = docLinkHtml;\n",
              "          element.appendChild(docLink);\n",
              "        }\n",
              "      </script>\n",
              "    </div>\n",
              "  </div>\n",
              "  "
            ],
            "text/plain": [
              "                   0 result\n",
              "0       อย่างไรก็ตาม     CC\n",
              "1            เครื่อง     NN\n",
              "2                บิน     VV\n",
              "3            แอร์บัส     NN\n",
              "4                  _     PU\n",
              "...              ...    ...\n",
              "103909         พร้อม     VV\n",
              "103910           รับ     VV\n",
              "103911           การ     FX\n",
              "103912         โจมตี     VV\n",
              "103913             _     PU\n",
              "\n",
              "[103914 rows x 2 columns]"
            ]
          },
          "metadata": {},
          "execution_count": 97
        }
      ],
      "source": [
        "Data3"
      ]
    },
    {
      "cell_type": "code",
      "execution_count": null,
      "metadata": {
        "id": "GAFe82xeM_H5"
      },
      "outputs": [],
      "source": [
        "Data3=Data3.drop(103913,axis=0)"
      ]
    },
    {
      "cell_type": "code",
      "execution_count": null,
      "metadata": {
        "id": "7yr7uZeJZT3-"
      },
      "outputs": [],
      "source": [
        "Id = []\n",
        "for i in range(1,len(Data3)+1):\n",
        "  Id.append(i)"
      ]
    },
    {
      "cell_type": "code",
      "execution_count": null,
      "metadata": {
        "colab": {
          "base_uri": "https://localhost:8080/"
        },
        "id": "2TKwvAyyZzvQ",
        "outputId": "d15478db-97ab-49c5-8b4c-8f7847e13eb1"
      },
      "outputs": [
        {
          "data": {
            "text/plain": [
              "103913"
            ]
          },
          "execution_count": 90,
          "metadata": {},
          "output_type": "execute_result"
        }
      ],
      "source": [
        "len(Id)"
      ]
    },
    {
      "cell_type": "code",
      "execution_count": null,
      "metadata": {
        "id": "2XnNoHYuNA3N"
      },
      "outputs": [],
      "source": [
        "solution1 = dict()\n",
        "for i in range(len(Id)):\n",
        "  solution1[Id[i]]=Data3[\"result\"][i]"
      ]
    },
    {
      "cell_type": "code",
      "execution_count": null,
      "metadata": {
        "colab": {
          "base_uri": "https://localhost:8080/"
        },
        "id": "NJBOpmtXac8-",
        "outputId": "3d40e2fc-c719-414f-8553-15e62c0c8066"
      },
      "outputs": [
        {
          "output_type": "execute_result",
          "data": {
            "text/plain": [
              "{1: 'CC',\n",
              " 2: 'NN',\n",
              " 3: 'VV',\n",
              " 4: 'NN',\n",
              " 5: 'PU',\n",
              " 6: 'NN',\n",
              " 7: 'NN',\n",
              " 8: 'AX',\n",
              " 9: 'VV',\n",
              " 10: 'PS',\n",
              " 11: 'NN',\n",
              " 12: 'PS',\n",
              " 13: 'NN',\n",
              " 14: 'NN',\n",
              " 15: 'PS',\n",
              " 16: 'NN',\n",
              " 17: 'PU',\n",
              " 18: 'NU',\n",
              " 19: 'PU',\n",
              " 20: 'CL',\n",
              " 21: 'CC',\n",
              " 22: 'VV',\n",
              " 23: 'NN',\n",
              " 24: 'VV',\n",
              " 25: 'AJ',\n",
              " 26: 'NU',\n",
              " 27: 'CL',\n",
              " 28: 'PU',\n",
              " 29: 'NN',\n",
              " 30: 'VV',\n",
              " 31: 'VV',\n",
              " 32: 'NN',\n",
              " 33: 'VV',\n",
              " 34: 'NN',\n",
              " 35: 'VV',\n",
              " 36: 'NN',\n",
              " 37: 'NU',\n",
              " 38: 'NN',\n",
              " 39: 'PU',\n",
              " 40: 'NU',\n",
              " 41: 'PU',\n",
              " 42: 'NN',\n",
              " 43: 'PU',\n",
              " 44: 'NU',\n",
              " 45: 'NU',\n",
              " 46: 'CL',\n",
              " 47: 'PU',\n",
              " 48: 'NN',\n",
              " 49: 'NN',\n",
              " 50: 'VV',\n",
              " 51: 'NN',\n",
              " 52: 'VV',\n",
              " 53: 'NN',\n",
              " 54: 'NN',\n",
              " 55: 'VV',\n",
              " 56: 'VV',\n",
              " 57: 'NN',\n",
              " 58: 'NU',\n",
              " 59: 'CL',\n",
              " 60: 'PS',\n",
              " 61: 'NU',\n",
              " 62: 'CL',\n",
              " 63: 'CL',\n",
              " 64: 'VV',\n",
              " 65: 'NN',\n",
              " 66: 'PS',\n",
              " 67: 'PU',\n",
              " 68: 'NU',\n",
              " 69: 'PS',\n",
              " 70: 'NN',\n",
              " 71: 'VV',\n",
              " 72: 'NN',\n",
              " 73: 'NU',\n",
              " 74: 'CL',\n",
              " 75: 'VV',\n",
              " 76: 'NN',\n",
              " 77: 'NU',\n",
              " 78: 'VV',\n",
              " 79: 'PS',\n",
              " 80: 'AX',\n",
              " 81: 'VV',\n",
              " 82: 'NN',\n",
              " 83: 'CC',\n",
              " 84: 'NN',\n",
              " 85: 'NN',\n",
              " 86: 'AJ',\n",
              " 87: 'PU',\n",
              " 88: 'NN',\n",
              " 89: 'PU',\n",
              " 90: 'VV',\n",
              " 91: 'NN',\n",
              " 92: 'VV',\n",
              " 93: 'VV',\n",
              " 94: 'NN',\n",
              " 95: 'VV',\n",
              " 96: 'VV',\n",
              " 97: 'NN',\n",
              " 98: 'VV',\n",
              " 99: 'NN',\n",
              " 100: 'PU',\n",
              " 101: 'PU',\n",
              " 102: 'NU',\n",
              " 103: 'NN',\n",
              " 104: 'PU',\n",
              " 105: 'NN',\n",
              " 106: 'NN',\n",
              " 107: 'PU',\n",
              " 108: 'NN',\n",
              " 109: 'NN',\n",
              " 110: 'NN',\n",
              " 111: 'VV',\n",
              " 112: 'NN',\n",
              " 113: 'AV',\n",
              " 114: 'VV',\n",
              " 115: 'PS',\n",
              " 116: 'NN',\n",
              " 117: 'NN',\n",
              " 118: 'CC',\n",
              " 119: 'NN',\n",
              " 120: 'NN',\n",
              " 121: 'PS',\n",
              " 122: 'NN',\n",
              " 123: 'NN',\n",
              " 124: 'NN',\n",
              " 125: 'CC',\n",
              " 126: 'PS',\n",
              " 127: 'FX',\n",
              " 128: 'VV',\n",
              " 129: 'NN',\n",
              " 130: 'NN',\n",
              " 131: 'PU',\n",
              " 132: 'AV',\n",
              " 133: 'VV',\n",
              " 134: 'CC',\n",
              " 135: 'NN',\n",
              " 136: 'NN',\n",
              " 137: 'NN',\n",
              " 138: 'CC',\n",
              " 139: 'VV',\n",
              " 140: 'NN',\n",
              " 141: 'NN',\n",
              " 142: 'NN',\n",
              " 143: 'VV',\n",
              " 144: 'NN',\n",
              " 145: 'NN',\n",
              " 146: 'VV',\n",
              " 147: 'NN',\n",
              " 148: 'NN',\n",
              " 149: 'NN',\n",
              " 150: 'PS',\n",
              " 151: 'NN',\n",
              " 152: 'NN',\n",
              " 153: 'NU',\n",
              " 154: 'PS',\n",
              " 155: 'NN',\n",
              " 156: 'PS',\n",
              " 157: 'NN',\n",
              " 158: 'NU',\n",
              " 159: 'PU',\n",
              " 160: 'CC',\n",
              " 161: 'AJ',\n",
              " 162: 'VV',\n",
              " 163: 'NN',\n",
              " 164: 'VV',\n",
              " 165: 'AX',\n",
              " 166: 'NU',\n",
              " 167: 'CL',\n",
              " 168: 'PS',\n",
              " 169: 'NN',\n",
              " 170: 'NU',\n",
              " 171: 'CL',\n",
              " 172: 'CL',\n",
              " 173: 'PU',\n",
              " 174: 'CC',\n",
              " 175: 'VV',\n",
              " 176: 'VV',\n",
              " 177: 'NN',\n",
              " 178: 'AJ',\n",
              " 179: 'NU',\n",
              " 180: 'PU',\n",
              " 181: 'NU',\n",
              " 182: 'CL',\n",
              " 183: 'VV',\n",
              " 184: 'VV',\n",
              " 185: 'NN',\n",
              " 186: 'NU',\n",
              " 187: 'PS',\n",
              " 188: 'NN',\n",
              " 189: 'NN',\n",
              " 190: 'PS',\n",
              " 191: 'NN',\n",
              " 192: 'NN',\n",
              " 193: 'NN',\n",
              " 194: 'PU',\n",
              " 195: 'CC',\n",
              " 196: 'NN',\n",
              " 197: 'NN',\n",
              " 198: 'FX',\n",
              " 199: 'VV',\n",
              " 200: 'NN',\n",
              " 201: 'AX',\n",
              " 202: 'VV',\n",
              " 203: 'NN',\n",
              " 204: 'CC',\n",
              " 205: 'NN',\n",
              " 206: 'PS',\n",
              " 207: 'NU',\n",
              " 208: 'CL',\n",
              " 209: 'AX',\n",
              " 210: 'AX',\n",
              " 211: 'VV',\n",
              " 212: 'NN',\n",
              " 213: 'NN',\n",
              " 214: 'VV',\n",
              " 215: 'NU',\n",
              " 216: 'NN',\n",
              " 217: 'PS',\n",
              " 218: 'NU',\n",
              " 219: 'CL',\n",
              " 220: 'CL',\n",
              " 221: 'CC',\n",
              " 222: 'VV',\n",
              " 223: 'NU',\n",
              " 224: 'NN',\n",
              " 225: 'CC',\n",
              " 226: 'AX',\n",
              " 227: 'VV',\n",
              " 228: 'CC',\n",
              " 229: 'VV',\n",
              " 230: 'AV',\n",
              " 231: 'VV',\n",
              " 232: 'NN',\n",
              " 233: 'PS',\n",
              " 234: 'PU',\n",
              " 235: 'NU',\n",
              " 236: 'PS',\n",
              " 237: 'NN',\n",
              " 238: 'PU',\n",
              " 239: 'CC',\n",
              " 240: 'VV',\n",
              " 241: 'VV',\n",
              " 242: 'NN',\n",
              " 243: 'CC',\n",
              " 244: 'FX',\n",
              " 245: 'VV',\n",
              " 246: 'FX',\n",
              " 247: 'AV',\n",
              " 248: 'CC',\n",
              " 249: 'VV',\n",
              " 250: 'AX',\n",
              " 251: 'VV',\n",
              " 252: 'NN',\n",
              " 253: 'VV',\n",
              " 254: 'AV',\n",
              " 255: 'VV',\n",
              " 256: 'CC',\n",
              " 257: 'VV',\n",
              " 258: 'NN',\n",
              " 259: 'NN',\n",
              " 260: 'NN',\n",
              " 261: 'NN',\n",
              " 262: 'CC',\n",
              " 263: 'VV',\n",
              " 264: 'VV',\n",
              " 265: 'PR',\n",
              " 266: 'AV',\n",
              " 267: 'PU',\n",
              " 268: 'PS',\n",
              " 269: 'NN',\n",
              " 270: 'FX',\n",
              " 271: 'VV',\n",
              " 272: 'VV',\n",
              " 273: 'NN',\n",
              " 274: 'NN',\n",
              " 275: 'VV',\n",
              " 276: 'NN',\n",
              " 277: 'NN',\n",
              " 278: 'NN',\n",
              " 279: 'CC',\n",
              " 280: 'VV',\n",
              " 281: 'NN',\n",
              " 282: 'PR',\n",
              " 283: 'FX',\n",
              " 284: 'VV',\n",
              " 285: 'NN',\n",
              " 286: 'NN',\n",
              " 287: 'FX',\n",
              " 288: 'VV',\n",
              " 289: 'VV',\n",
              " 290: 'PS',\n",
              " 291: 'NN',\n",
              " 292: 'PS',\n",
              " 293: 'NN',\n",
              " 294: 'NN',\n",
              " 295: 'NN',\n",
              " 296: 'NN',\n",
              " 297: 'PS',\n",
              " 298: 'NN',\n",
              " 299: 'VV',\n",
              " 300: 'NN',\n",
              " 301: 'PS',\n",
              " 302: 'NN',\n",
              " 303: 'VV',\n",
              " 304: 'NN',\n",
              " 305: 'AJ',\n",
              " 306: 'PU',\n",
              " 307: 'CC',\n",
              " 308: 'NN',\n",
              " 309: 'PS',\n",
              " 310: 'NN',\n",
              " 311: 'VV',\n",
              " 312: 'NN',\n",
              " 313: 'VV',\n",
              " 314: 'CC',\n",
              " 315: 'VV',\n",
              " 316: 'NN',\n",
              " 317: 'NN',\n",
              " 318: 'NN',\n",
              " 319: 'NN',\n",
              " 320: 'PU',\n",
              " 321: 'CC',\n",
              " 322: 'NN',\n",
              " 323: 'AX',\n",
              " 324: 'AX',\n",
              " 325: 'CC',\n",
              " 326: 'VV',\n",
              " 327: 'CC',\n",
              " 328: 'AX',\n",
              " 329: 'VV',\n",
              " 330: 'NN',\n",
              " 331: 'VV',\n",
              " 332: 'VV',\n",
              " 333: 'AX',\n",
              " 334: 'VV',\n",
              " 335: 'CC',\n",
              " 336: 'AX',\n",
              " 337: 'VV',\n",
              " 338: 'NN',\n",
              " 339: 'CC',\n",
              " 340: 'VV',\n",
              " 341: 'NN',\n",
              " 342: 'PS',\n",
              " 343: 'NN',\n",
              " 344: 'VV',\n",
              " 345: 'CL',\n",
              " 346: 'AJ',\n",
              " 347: 'AX',\n",
              " 348: 'VV',\n",
              " 349: 'FX',\n",
              " 350: 'VV',\n",
              " 351: 'VV',\n",
              " 352: 'NN',\n",
              " 353: 'PR',\n",
              " 354: 'CC',\n",
              " 355: 'VV',\n",
              " 356: 'CC',\n",
              " 357: 'NN',\n",
              " 358: 'AX',\n",
              " 359: 'VV',\n",
              " 360: 'PU',\n",
              " 361: 'CC',\n",
              " 362: 'PR',\n",
              " 363: 'CC',\n",
              " 364: 'VV',\n",
              " 365: 'NN',\n",
              " 366: 'AX',\n",
              " 367: 'VV',\n",
              " 368: 'FX',\n",
              " 369: 'NN',\n",
              " 370: 'CC',\n",
              " 371: 'AV',\n",
              " 372: 'VV',\n",
              " 373: 'NN',\n",
              " 374: 'NU',\n",
              " 375: 'NN',\n",
              " 376: 'PS',\n",
              " 377: 'NU',\n",
              " 378: 'CL',\n",
              " 379: 'NN',\n",
              " 380: 'PS',\n",
              " 381: 'NU',\n",
              " 382: 'CL',\n",
              " 383: 'NN',\n",
              " 384: 'NN',\n",
              " 385: 'VV',\n",
              " 386: 'PU',\n",
              " 387: 'NN',\n",
              " 388: 'NN',\n",
              " 389: 'CC',\n",
              " 390: 'VV',\n",
              " 391: 'PS',\n",
              " 392: 'VV',\n",
              " 393: 'NN',\n",
              " 394: 'NN',\n",
              " 395: 'VV',\n",
              " 396: 'NU',\n",
              " 397: 'CL',\n",
              " 398: 'VV',\n",
              " 399: 'PU',\n",
              " 400: 'NN',\n",
              " 401: 'PS',\n",
              " 402: 'NN',\n",
              " 403: 'NN',\n",
              " 404: 'PU',\n",
              " 405: 'NN',\n",
              " 406: 'PU',\n",
              " 407: 'NN',\n",
              " 408: 'NN',\n",
              " 409: 'VV',\n",
              " 410: 'NN',\n",
              " 411: 'NN',\n",
              " 412: 'NN',\n",
              " 413: 'NN',\n",
              " 414: 'PU',\n",
              " 415: 'NN',\n",
              " 416: 'NN',\n",
              " 417: 'NN',\n",
              " 418: 'NN',\n",
              " 419: 'VV',\n",
              " 420: 'AV',\n",
              " 421: 'CC',\n",
              " 422: 'CC',\n",
              " 423: 'NN',\n",
              " 424: 'FX',\n",
              " 425: 'VV',\n",
              " 426: 'VV',\n",
              " 427: 'NN',\n",
              " 428: 'AX',\n",
              " 429: 'VV',\n",
              " 430: 'PS',\n",
              " 431: 'NN',\n",
              " 432: 'CC',\n",
              " 433: 'VV',\n",
              " 434: 'AV',\n",
              " 435: 'CC',\n",
              " 436: 'CC',\n",
              " 437: 'AX',\n",
              " 438: 'AX',\n",
              " 439: 'VV',\n",
              " 440: 'FX',\n",
              " 441: 'VV',\n",
              " 442: 'FX',\n",
              " 443: 'VV',\n",
              " 444: 'PS',\n",
              " 445: 'AJ',\n",
              " 446: 'CL',\n",
              " 447: 'AV',\n",
              " 448: 'VV',\n",
              " 449: 'PU',\n",
              " 450: 'CC',\n",
              " 451: 'VV',\n",
              " 452: 'NN',\n",
              " 453: 'NN',\n",
              " 454: 'AV',\n",
              " 455: 'VV',\n",
              " 456: 'NN',\n",
              " 457: 'VV',\n",
              " 458: 'NN',\n",
              " 459: 'NU',\n",
              " 460: 'VV',\n",
              " 461: 'CC',\n",
              " 462: 'AJ',\n",
              " 463: 'NN',\n",
              " 464: 'NU',\n",
              " 465: 'CC',\n",
              " 466: 'VV',\n",
              " 467: 'NN',\n",
              " 468: 'VV',\n",
              " 469: 'CC',\n",
              " 470: 'NN',\n",
              " 471: 'NN',\n",
              " 472: 'VV',\n",
              " 473: 'AV',\n",
              " 474: 'CC',\n",
              " 475: 'NN',\n",
              " 476: 'NN',\n",
              " 477: 'VV',\n",
              " 478: 'NN',\n",
              " 479: 'PS',\n",
              " 480: 'NN',\n",
              " 481: 'NN',\n",
              " 482: 'VV',\n",
              " 483: 'NN',\n",
              " 484: 'NN',\n",
              " 485: 'VV',\n",
              " 486: 'PS',\n",
              " 487: 'NN',\n",
              " 488: 'NN',\n",
              " 489: 'NN',\n",
              " 490: 'VV',\n",
              " 491: 'NN',\n",
              " 492: 'NN',\n",
              " 493: 'NN',\n",
              " 494: 'NN',\n",
              " 495: 'NN',\n",
              " 496: 'VV',\n",
              " 497: 'FX',\n",
              " 498: 'VV',\n",
              " 499: 'AJ',\n",
              " 500: 'NN',\n",
              " 501: 'NN',\n",
              " 502: 'VV',\n",
              " 503: 'FX',\n",
              " 504: 'VV',\n",
              " 505: 'NN',\n",
              " 506: 'NN',\n",
              " 507: 'AJ',\n",
              " 508: 'NN',\n",
              " 509: 'VV',\n",
              " 510: 'NN',\n",
              " 511: 'VV',\n",
              " 512: 'NN',\n",
              " 513: 'FX',\n",
              " 514: 'VV',\n",
              " 515: 'VV',\n",
              " 516: 'NN',\n",
              " 517: 'PS',\n",
              " 518: 'NN',\n",
              " 519: 'VV',\n",
              " 520: 'NG',\n",
              " 521: 'VV',\n",
              " 522: 'AX',\n",
              " 523: 'CC',\n",
              " 524: 'NN',\n",
              " 525: 'VV',\n",
              " 526: 'NN',\n",
              " 527: 'VV',\n",
              " 528: 'PU',\n",
              " 529: 'CC',\n",
              " 530: 'CC',\n",
              " 531: 'AX',\n",
              " 532: 'AX',\n",
              " 533: 'NG',\n",
              " 534: 'VV',\n",
              " 535: 'AV',\n",
              " 536: 'VV',\n",
              " 537: 'CC',\n",
              " 538: 'NN',\n",
              " 539: 'AX',\n",
              " 540: 'VV',\n",
              " 541: 'NN',\n",
              " 542: 'CC',\n",
              " 543: 'PS',\n",
              " 544: 'NN',\n",
              " 545: 'NN',\n",
              " 546: 'CC',\n",
              " 547: 'VV',\n",
              " 548: 'NN',\n",
              " 549: 'VV',\n",
              " 550: 'PS',\n",
              " 551: 'NN',\n",
              " 552: 'NN',\n",
              " 553: 'VV',\n",
              " 554: 'NN',\n",
              " 555: 'VV',\n",
              " 556: 'AV',\n",
              " 557: 'VV',\n",
              " 558: 'NN',\n",
              " 559: 'CC',\n",
              " 560: 'NN',\n",
              " 561: 'PS',\n",
              " 562: 'NN',\n",
              " 563: 'CC',\n",
              " 564: 'AX',\n",
              " 565: 'VV',\n",
              " 566: 'NN',\n",
              " 567: 'NN',\n",
              " 568: 'VV',\n",
              " 569: 'CC',\n",
              " 570: 'VV',\n",
              " 571: 'FX',\n",
              " 572: 'AX',\n",
              " 573: 'VV',\n",
              " 574: 'NN',\n",
              " 575: 'NN',\n",
              " 576: 'VV',\n",
              " 577: 'CC',\n",
              " 578: 'NN',\n",
              " 579: 'NN',\n",
              " 580: 'VV',\n",
              " 581: 'CC',\n",
              " 582: 'FX',\n",
              " 583: 'VV',\n",
              " 584: 'NN',\n",
              " 585: 'VV',\n",
              " 586: 'PU',\n",
              " 587: 'CC',\n",
              " 588: 'FX',\n",
              " 589: 'VV',\n",
              " 590: 'NN',\n",
              " 591: 'NN',\n",
              " 592: 'PS',\n",
              " 593: 'FX',\n",
              " 594: 'NN',\n",
              " 595: 'NN',\n",
              " 596: 'AJ',\n",
              " 597: 'NN',\n",
              " 598: 'VV',\n",
              " 599: 'AX',\n",
              " 600: 'VV',\n",
              " 601: 'CC',\n",
              " 602: 'NN',\n",
              " 603: 'AV',\n",
              " 604: 'PU',\n",
              " 605: 'NN',\n",
              " 606: 'NN',\n",
              " 607: 'VV',\n",
              " 608: 'PU',\n",
              " 609: 'PU',\n",
              " 610: 'VV',\n",
              " 611: 'CC',\n",
              " 612: 'CC',\n",
              " 613: 'PS',\n",
              " 614: 'NN',\n",
              " 615: 'NN',\n",
              " 616: 'VV',\n",
              " 617: 'CC',\n",
              " 618: 'NN',\n",
              " 619: 'VV',\n",
              " 620: 'VV',\n",
              " 621: 'AX',\n",
              " 622: 'CC',\n",
              " 623: 'FX',\n",
              " 624: 'VV',\n",
              " 625: 'NN',\n",
              " 626: 'NN',\n",
              " 627: 'VV',\n",
              " 628: 'FX',\n",
              " 629: 'VV',\n",
              " 630: 'CC',\n",
              " 631: 'NN',\n",
              " 632: 'AX',\n",
              " 633: 'AX',\n",
              " 634: 'VV',\n",
              " 635: 'AV',\n",
              " 636: 'CC',\n",
              " 637: 'AX',\n",
              " 638: 'VV',\n",
              " 639: 'FX',\n",
              " 640: 'VV',\n",
              " 641: 'PS',\n",
              " 642: 'NN',\n",
              " 643: 'NN',\n",
              " 644: 'NN',\n",
              " 645: 'CC',\n",
              " 646: 'AJ',\n",
              " 647: 'NN',\n",
              " 648: 'NN',\n",
              " 649: 'PS',\n",
              " 650: 'PU',\n",
              " 651: 'NN',\n",
              " 652: 'NN',\n",
              " 653: 'VV',\n",
              " 654: 'PU',\n",
              " 655: 'PU',\n",
              " 656: 'VV',\n",
              " 657: 'CC',\n",
              " 658: 'PS',\n",
              " 659: 'NN',\n",
              " 660: 'AV',\n",
              " 661: 'NN',\n",
              " 662: 'NN',\n",
              " 663: 'PU',\n",
              " 664: 'PU',\n",
              " 665: 'AX',\n",
              " 666: 'VV',\n",
              " 667: 'VV',\n",
              " 668: 'VV',\n",
              " 669: 'NN',\n",
              " 670: 'CC',\n",
              " 671: 'AX',\n",
              " 672: 'VV',\n",
              " 673: 'NN',\n",
              " 674: 'VV',\n",
              " 675: 'PS',\n",
              " 676: 'NN',\n",
              " 677: 'NN',\n",
              " 678: 'CC',\n",
              " 679: 'NN',\n",
              " 680: 'NN',\n",
              " 681: 'VV',\n",
              " 682: 'NN',\n",
              " 683: 'CC',\n",
              " 684: 'VV',\n",
              " 685: 'NN',\n",
              " 686: 'NN',\n",
              " 687: 'NN',\n",
              " 688: 'NN',\n",
              " 689: 'VV',\n",
              " 690: 'PS',\n",
              " 691: 'NN',\n",
              " 692: 'NN',\n",
              " 693: 'CC',\n",
              " 694: 'FX',\n",
              " 695: 'VV',\n",
              " 696: 'FX',\n",
              " 697: 'VV',\n",
              " 698: 'PS',\n",
              " 699: 'NN',\n",
              " 700: 'PS',\n",
              " 701: 'NN',\n",
              " 702: 'CC',\n",
              " 703: 'VV',\n",
              " 704: 'NN',\n",
              " 705: 'VV',\n",
              " 706: 'PS',\n",
              " 707: 'FX',\n",
              " 708: 'VV',\n",
              " 709: 'NN',\n",
              " 710: 'PU',\n",
              " 711: 'FX',\n",
              " 712: 'NN',\n",
              " 713: 'NN',\n",
              " 714: 'VV',\n",
              " 715: 'CC',\n",
              " 716: 'PS',\n",
              " 717: 'PS',\n",
              " 718: 'NN',\n",
              " 719: 'AJ',\n",
              " 720: 'PU',\n",
              " 721: 'NU',\n",
              " 722: 'PU',\n",
              " 723: 'NN',\n",
              " 724: 'PU',\n",
              " 725: 'PS',\n",
              " 726: 'NN',\n",
              " 727: 'NN',\n",
              " 728: 'VV',\n",
              " 729: 'NU',\n",
              " 730: 'NN',\n",
              " 731: 'NN',\n",
              " 732: 'PU',\n",
              " 733: 'NN',\n",
              " 734: 'PS',\n",
              " 735: 'PU',\n",
              " 736: 'NN',\n",
              " 737: 'NN',\n",
              " 738: 'PU',\n",
              " 739: 'NN',\n",
              " 740: 'PU',\n",
              " 741: 'NN',\n",
              " 742: 'NN',\n",
              " 743: 'VV',\n",
              " 744: 'NN',\n",
              " 745: 'NN',\n",
              " 746: 'NN',\n",
              " 747: 'NN',\n",
              " 748: 'NN',\n",
              " 749: 'NN',\n",
              " 750: 'NN',\n",
              " 751: 'NN',\n",
              " 752: 'VV',\n",
              " 753: 'NN',\n",
              " 754: 'PS',\n",
              " 755: 'NN',\n",
              " 756: 'PU',\n",
              " 757: 'NU',\n",
              " 758: 'PU',\n",
              " 759: 'CL',\n",
              " 760: 'VV',\n",
              " 761: 'PS',\n",
              " 762: 'PU',\n",
              " 763: 'NN',\n",
              " 764: 'NN',\n",
              " 765: 'VV',\n",
              " 766: 'NN',\n",
              " 767: 'VV',\n",
              " 768: 'VV',\n",
              " 769: 'CC',\n",
              " 770: 'NN',\n",
              " 771: 'VV',\n",
              " 772: 'PS',\n",
              " 773: 'NN',\n",
              " 774: 'PU',\n",
              " 775: 'NN',\n",
              " 776: 'CC',\n",
              " 777: 'NN',\n",
              " 778: 'FX',\n",
              " 779: 'VV',\n",
              " 780: 'NN',\n",
              " 781: 'CC',\n",
              " 782: 'VV',\n",
              " 783: 'NN',\n",
              " 784: 'NN',\n",
              " 785: 'NN',\n",
              " 786: 'NN',\n",
              " 787: 'NN',\n",
              " 788: 'PU',\n",
              " 789: 'CC',\n",
              " 790: 'PR',\n",
              " 791: 'VV',\n",
              " 792: 'NN',\n",
              " 793: 'VV',\n",
              " 794: 'NU',\n",
              " 795: 'CL',\n",
              " 796: 'VV',\n",
              " 797: 'PU',\n",
              " 798: 'NN',\n",
              " 799: 'CC',\n",
              " 800: 'AX',\n",
              " 801: 'VV',\n",
              " 802: 'FX',\n",
              " 803: 'VV',\n",
              " 804: 'NN',\n",
              " 805: 'VV',\n",
              " 806: 'PU',\n",
              " 807: 'NN',\n",
              " 808: 'VV',\n",
              " 809: 'VV',\n",
              " 810: 'CC',\n",
              " 811: 'VV',\n",
              " 812: 'VV',\n",
              " 813: 'VV',\n",
              " 814: 'CC',\n",
              " 815: 'AX',\n",
              " 816: 'VV',\n",
              " 817: 'PU',\n",
              " 818: 'VV',\n",
              " 819: 'PU',\n",
              " 820: 'NN',\n",
              " 821: 'NN',\n",
              " 822: 'VV',\n",
              " 823: 'NN',\n",
              " 824: 'VV',\n",
              " 825: 'NN',\n",
              " 826: 'AV',\n",
              " 827: 'VV',\n",
              " 828: 'NN',\n",
              " 829: 'PU',\n",
              " 830: 'NN',\n",
              " 831: 'PU',\n",
              " 832: 'NU',\n",
              " 833: 'PU',\n",
              " 834: 'NN',\n",
              " 835: 'PU',\n",
              " 836: 'NU',\n",
              " 837: 'NU',\n",
              " 838: 'CL',\n",
              " 839: 'PU',\n",
              " 840: 'NN',\n",
              " 841: 'VV',\n",
              " 842: 'NN',\n",
              " 843: 'PU',\n",
              " 844: 'NN',\n",
              " 845: 'NN',\n",
              " 846: 'VV',\n",
              " 847: 'VV',\n",
              " 848: 'PS',\n",
              " 849: 'NN',\n",
              " 850: 'VV',\n",
              " 851: 'NN',\n",
              " 852: 'CC',\n",
              " 853: 'PS',\n",
              " 854: 'VV',\n",
              " 855: 'NN',\n",
              " 856: 'VV',\n",
              " 857: 'NN',\n",
              " 858: 'NN',\n",
              " 859: 'NN',\n",
              " 860: 'VV',\n",
              " 861: 'VV',\n",
              " 862: 'NN',\n",
              " 863: 'NN',\n",
              " 864: 'VV',\n",
              " 865: 'NN',\n",
              " 866: 'VV',\n",
              " 867: 'CC',\n",
              " 868: 'NN',\n",
              " 869: 'NN',\n",
              " 870: 'AX',\n",
              " 871: 'VV',\n",
              " 872: 'FX',\n",
              " 873: 'VV',\n",
              " 874: 'PU',\n",
              " 875: 'NN',\n",
              " 876: 'VV',\n",
              " 877: 'VV',\n",
              " 878: 'VV',\n",
              " 879: 'CC',\n",
              " 880: 'PS',\n",
              " 881: 'PU',\n",
              " 882: 'VV',\n",
              " 883: 'NN',\n",
              " 884: 'VV',\n",
              " 885: 'VV',\n",
              " 886: 'NU',\n",
              " 887: 'CL',\n",
              " 888: 'VV',\n",
              " 889: 'VV',\n",
              " 890: 'VV',\n",
              " 891: 'NN',\n",
              " 892: 'NU',\n",
              " 893: 'PU',\n",
              " 894: 'PU',\n",
              " 895: 'NU',\n",
              " 896: 'NN',\n",
              " 897: 'PU',\n",
              " 898: 'NN',\n",
              " 899: 'PU',\n",
              " 900: 'NU',\n",
              " 901: 'CL',\n",
              " 902: 'NN',\n",
              " 903: 'NN',\n",
              " 904: 'PU',\n",
              " 905: 'AX',\n",
              " 906: 'VV',\n",
              " 907: 'NN',\n",
              " 908: 'VV',\n",
              " 909: 'PU',\n",
              " 910: 'NN',\n",
              " 911: 'PU',\n",
              " 912: 'NN',\n",
              " 913: 'NU',\n",
              " 914: 'NN',\n",
              " 915: 'VV',\n",
              " 916: 'NN',\n",
              " 917: 'CC',\n",
              " 918: 'VV',\n",
              " 919: 'AV',\n",
              " 920: 'PS',\n",
              " 921: 'NN',\n",
              " 922: 'AV',\n",
              " 923: 'VV',\n",
              " 924: 'VV',\n",
              " 925: 'PS',\n",
              " 926: 'NN',\n",
              " 927: 'NN',\n",
              " 928: 'NN',\n",
              " 929: 'PU',\n",
              " 930: 'CC',\n",
              " 931: 'NN',\n",
              " 932: 'VV',\n",
              " 933: 'NN',\n",
              " 934: 'NU',\n",
              " 935: 'VV',\n",
              " 936: 'VV',\n",
              " 937: 'VV',\n",
              " 938: 'PS',\n",
              " 939: 'NN',\n",
              " 940: 'PS',\n",
              " 941: 'NN',\n",
              " 942: 'PU',\n",
              " 943: 'NU',\n",
              " 944: 'CL',\n",
              " 945: 'PS',\n",
              " 946: 'NN',\n",
              " 947: 'PS',\n",
              " 948: 'NN',\n",
              " 949: 'PU',\n",
              " 950: 'NU',\n",
              " 951: 'PU',\n",
              " 952: 'CL',\n",
              " 953: 'PU',\n",
              " 954: 'CC',\n",
              " 955: 'NN',\n",
              " 956: 'VV',\n",
              " 957: 'CL',\n",
              " 958: 'VV',\n",
              " 959: 'VV',\n",
              " 960: 'VV',\n",
              " 961: 'AV',\n",
              " 962: 'VV',\n",
              " 963: 'NN',\n",
              " 964: 'NN',\n",
              " 965: 'NN',\n",
              " 966: 'PS',\n",
              " 967: 'PU',\n",
              " 968: 'NU',\n",
              " 969: 'PU',\n",
              " 970: 'NN',\n",
              " 971: 'CC',\n",
              " 972: 'VV',\n",
              " 973: 'AV',\n",
              " 974: 'PU',\n",
              " 975: 'CC',\n",
              " 976: 'FX',\n",
              " 977: 'VV',\n",
              " 978: 'NN',\n",
              " 979: 'AJ',\n",
              " 980: 'VV',\n",
              " 981: 'NN',\n",
              " 982: 'NU',\n",
              " 983: 'PS',\n",
              " 984: 'FX',\n",
              " 985: 'VV',\n",
              " 986: 'VV',\n",
              " 987: 'PS',\n",
              " 988: 'NN',\n",
              " 989: 'CC',\n",
              " 990: 'NN',\n",
              " 991: 'NN',\n",
              " 992: 'VV',\n",
              " 993: 'VV',\n",
              " 994: 'VV',\n",
              " 995: 'VV',\n",
              " 996: 'VV',\n",
              " 997: 'FX',\n",
              " 998: 'VV',\n",
              " 999: 'NN',\n",
              " 1000: 'FX',\n",
              " ...}"
            ]
          },
          "metadata": {},
          "execution_count": 101
        }
      ],
      "source": [
        "solution1"
      ]
    },
    {
      "cell_type": "code",
      "execution_count": null,
      "metadata": {
        "colab": {
          "base_uri": "https://localhost:8080/"
        },
        "id": "ExKx9_Fiadvg",
        "outputId": "a59158ea-4e38-4f28-e3f8-6c1b9f0116b2"
      },
      "outputs": [
        {
          "output_type": "execute_result",
          "data": {
            "text/plain": [
              "103913"
            ]
          },
          "metadata": {},
          "execution_count": 84
        }
      ],
      "source": [
        "#Import CSV\n",
        "df = pd.read_csv('/content/super-ai-engineer-2021-nlp-pos-tagging/pos_sample_submission.csv')\n",
        "\n",
        "#Updated\n",
        "df['Predicted'] = df[[\"Id\",\"Predicted\"]].apply(lambda x : solution1[x[\"Id\"]] if x[\"Id\"] in solution1.keys() else x[\"Predicted\"],axis=1)\n",
        "\n",
        "#check not null\n",
        "df[\"Predicted\"].notnull().sum()"
      ]
    },
    {
      "cell_type": "code",
      "execution_count": null,
      "metadata": {
        "id": "AHSEvubmayvH"
      },
      "outputs": [],
      "source": [
        "df.to_csv(\"/content/drive/MyDrive/POSTAG/submission3_final1.csv\")"
      ]
    },
    {
      "cell_type": "code",
      "execution_count": null,
      "metadata": {
        "colab": {
          "base_uri": "https://localhost:8080/",
          "height": 423
        },
        "id": "gVsW8-eda1-k",
        "outputId": "9f1a6166-d201-4ca4-fe2b-351ea3dff8ab"
      },
      "outputs": [
        {
          "data": {
            "text/html": [
              "\n",
              "  <div id=\"df-f67b052a-cc8c-4bd5-8c3b-1735a20ec387\">\n",
              "    <div class=\"colab-df-container\">\n",
              "      <div>\n",
              "<style scoped>\n",
              "    .dataframe tbody tr th:only-of-type {\n",
              "        vertical-align: middle;\n",
              "    }\n",
              "\n",
              "    .dataframe tbody tr th {\n",
              "        vertical-align: top;\n",
              "    }\n",
              "\n",
              "    .dataframe thead th {\n",
              "        text-align: right;\n",
              "    }\n",
              "</style>\n",
              "<table border=\"1\" class=\"dataframe\">\n",
              "  <thead>\n",
              "    <tr style=\"text-align: right;\">\n",
              "      <th></th>\n",
              "      <th>Id</th>\n",
              "      <th>Predicted</th>\n",
              "    </tr>\n",
              "  </thead>\n",
              "  <tbody>\n",
              "    <tr>\n",
              "      <th>0</th>\n",
              "      <td>1</td>\n",
              "      <td>CC</td>\n",
              "    </tr>\n",
              "    <tr>\n",
              "      <th>1</th>\n",
              "      <td>2</td>\n",
              "      <td>NN</td>\n",
              "    </tr>\n",
              "    <tr>\n",
              "      <th>2</th>\n",
              "      <td>3</td>\n",
              "      <td>VV</td>\n",
              "    </tr>\n",
              "    <tr>\n",
              "      <th>3</th>\n",
              "      <td>4</td>\n",
              "      <td>NN</td>\n",
              "    </tr>\n",
              "    <tr>\n",
              "      <th>4</th>\n",
              "      <td>5</td>\n",
              "      <td>PU</td>\n",
              "    </tr>\n",
              "    <tr>\n",
              "      <th>...</th>\n",
              "      <td>...</td>\n",
              "      <td>...</td>\n",
              "    </tr>\n",
              "    <tr>\n",
              "      <th>103908</th>\n",
              "      <td>103909</td>\n",
              "      <td>VV</td>\n",
              "    </tr>\n",
              "    <tr>\n",
              "      <th>103909</th>\n",
              "      <td>103910</td>\n",
              "      <td>VV</td>\n",
              "    </tr>\n",
              "    <tr>\n",
              "      <th>103910</th>\n",
              "      <td>103911</td>\n",
              "      <td>VV</td>\n",
              "    </tr>\n",
              "    <tr>\n",
              "      <th>103911</th>\n",
              "      <td>103912</td>\n",
              "      <td>FX</td>\n",
              "    </tr>\n",
              "    <tr>\n",
              "      <th>103912</th>\n",
              "      <td>103913</td>\n",
              "      <td>VV</td>\n",
              "    </tr>\n",
              "  </tbody>\n",
              "</table>\n",
              "<p>103913 rows × 2 columns</p>\n",
              "</div>\n",
              "      <button class=\"colab-df-convert\" onclick=\"convertToInteractive('df-f67b052a-cc8c-4bd5-8c3b-1735a20ec387')\"\n",
              "              title=\"Convert this dataframe to an interactive table.\"\n",
              "              style=\"display:none;\">\n",
              "        \n",
              "  <svg xmlns=\"http://www.w3.org/2000/svg\" height=\"24px\"viewBox=\"0 0 24 24\"\n",
              "       width=\"24px\">\n",
              "    <path d=\"M0 0h24v24H0V0z\" fill=\"none\"/>\n",
              "    <path d=\"M18.56 5.44l.94 2.06.94-2.06 2.06-.94-2.06-.94-.94-2.06-.94 2.06-2.06.94zm-11 1L8.5 8.5l.94-2.06 2.06-.94-2.06-.94L8.5 2.5l-.94 2.06-2.06.94zm10 10l.94 2.06.94-2.06 2.06-.94-2.06-.94-.94-2.06-.94 2.06-2.06.94z\"/><path d=\"M17.41 7.96l-1.37-1.37c-.4-.4-.92-.59-1.43-.59-.52 0-1.04.2-1.43.59L10.3 9.45l-7.72 7.72c-.78.78-.78 2.05 0 2.83L4 21.41c.39.39.9.59 1.41.59.51 0 1.02-.2 1.41-.59l7.78-7.78 2.81-2.81c.8-.78.8-2.07 0-2.86zM5.41 20L4 18.59l7.72-7.72 1.47 1.35L5.41 20z\"/>\n",
              "  </svg>\n",
              "      </button>\n",
              "      \n",
              "  <style>\n",
              "    .colab-df-container {\n",
              "      display:flex;\n",
              "      flex-wrap:wrap;\n",
              "      gap: 12px;\n",
              "    }\n",
              "\n",
              "    .colab-df-convert {\n",
              "      background-color: #E8F0FE;\n",
              "      border: none;\n",
              "      border-radius: 50%;\n",
              "      cursor: pointer;\n",
              "      display: none;\n",
              "      fill: #1967D2;\n",
              "      height: 32px;\n",
              "      padding: 0 0 0 0;\n",
              "      width: 32px;\n",
              "    }\n",
              "\n",
              "    .colab-df-convert:hover {\n",
              "      background-color: #E2EBFA;\n",
              "      box-shadow: 0px 1px 2px rgba(60, 64, 67, 0.3), 0px 1px 3px 1px rgba(60, 64, 67, 0.15);\n",
              "      fill: #174EA6;\n",
              "    }\n",
              "\n",
              "    [theme=dark] .colab-df-convert {\n",
              "      background-color: #3B4455;\n",
              "      fill: #D2E3FC;\n",
              "    }\n",
              "\n",
              "    [theme=dark] .colab-df-convert:hover {\n",
              "      background-color: #434B5C;\n",
              "      box-shadow: 0px 1px 3px 1px rgba(0, 0, 0, 0.15);\n",
              "      filter: drop-shadow(0px 1px 2px rgba(0, 0, 0, 0.3));\n",
              "      fill: #FFFFFF;\n",
              "    }\n",
              "  </style>\n",
              "\n",
              "      <script>\n",
              "        const buttonEl =\n",
              "          document.querySelector('#df-f67b052a-cc8c-4bd5-8c3b-1735a20ec387 button.colab-df-convert');\n",
              "        buttonEl.style.display =\n",
              "          google.colab.kernel.accessAllowed ? 'block' : 'none';\n",
              "\n",
              "        async function convertToInteractive(key) {\n",
              "          const element = document.querySelector('#df-f67b052a-cc8c-4bd5-8c3b-1735a20ec387');\n",
              "          const dataTable =\n",
              "            await google.colab.kernel.invokeFunction('convertToInteractive',\n",
              "                                                     [key], {});\n",
              "          if (!dataTable) return;\n",
              "\n",
              "          const docLinkHtml = 'Like what you see? Visit the ' +\n",
              "            '<a target=\"_blank\" href=https://colab.research.google.com/notebooks/data_table.ipynb>data table notebook</a>'\n",
              "            + ' to learn more about interactive tables.';\n",
              "          element.innerHTML = '';\n",
              "          dataTable['output_type'] = 'display_data';\n",
              "          await google.colab.output.renderOutput(dataTable, element);\n",
              "          const docLink = document.createElement('div');\n",
              "          docLink.innerHTML = docLinkHtml;\n",
              "          element.appendChild(docLink);\n",
              "        }\n",
              "      </script>\n",
              "    </div>\n",
              "  </div>\n",
              "  "
            ],
            "text/plain": [
              "            Id Predicted\n",
              "0            1        CC\n",
              "1            2        NN\n",
              "2            3        VV\n",
              "3            4        NN\n",
              "4            5        PU\n",
              "...        ...       ...\n",
              "103908  103909        VV\n",
              "103909  103910        VV\n",
              "103910  103911        VV\n",
              "103911  103912        FX\n",
              "103912  103913        VV\n",
              "\n",
              "[103913 rows x 2 columns]"
            ]
          },
          "execution_count": 95,
          "metadata": {},
          "output_type": "execute_result"
        }
      ],
      "source": [
        "df"
      ]
    },
    {
      "cell_type": "code",
      "execution_count": null,
      "metadata": {
        "id": "V5rgyHSPbQo5"
      },
      "outputs": [],
      "source": []
    }
  ],
  "metadata": {
    "accelerator": "GPU",
    "colab": {
      "machine_shape": "hm",
      "provenance": []
    },
    "kernelspec": {
      "display_name": "Python 3",
      "name": "python3"
    },
    "language_info": {
      "name": "python"
    }
  },
  "nbformat": 4,
  "nbformat_minor": 0
}